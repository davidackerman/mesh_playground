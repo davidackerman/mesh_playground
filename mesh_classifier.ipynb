{
 "cells": [
  {
   "cell_type": "code",
   "execution_count": 2,
   "metadata": {},
   "outputs": [
    {
     "name": "stdout",
     "output_type": "stream",
     "text": [
      "http://10.150.100.248:8787/status\n"
     ]
    },
    {
     "name": "stderr",
     "output_type": "stream",
     "text": [
      "Warning at src/paths/unweighted.c:376 : Couldn't reach some vertices\n",
      "Warning at src/paths/unweighted.c:376 : Couldn't reach some vertices\n",
      "Warning at src/paths/unweighted.c:376 : Couldn't reach some vertices\n",
      "Warning at src/paths/unweighted.c:376 : Couldn't reach some vertices\n",
      "Warning at src/paths/unweighted.c:376 : Couldn't reach some vertices\n",
      "Warning at src/paths/unweighted.c:376 : Couldn't reach some vertices\n",
      "Warning at src/paths/unweighted.c:376 : Couldn't reach some vertices\n",
      "Warning at src/paths/unweighted.c:376 : Couldn't reach some vertices\n",
      "Warning at src/paths/unweighted.c:376 : Couldn't reach some vertices\n",
      "Warning at src/paths/unweighted.c:376 : Couldn't reach some vertices\n",
      "Warning at src/paths/unweighted.c:376 : Couldn't reach some vertices\n",
      "Warning at src/paths/unweighted.c:376 : Couldn't reach some vertices\n",
      "Warning at src/paths/unweighted.c:376 : Couldn't reach some vertices\n",
      "Warning at src/paths/unweighted.c:376 : Couldn't reach some vertices\n",
      "Warning at src/paths/unweighted.c:376 : Couldn't reach some vertices\n",
      "Warning at src/paths/unweighted.c:376 : Couldn't reach some vertices\n",
      "Warning at src/paths/unweighted.c:376 : Couldn't reach some vertices\n",
      "Warning at src/paths/unweighted.c:376 : Couldn't reach some vertices\n",
      "Warning at src/paths/unweighted.c:376 : Couldn't reach some vertices\n",
      "Warning at src/paths/unweighted.c:376 : Couldn't reach some vertices\n",
      "Warning at src/paths/unweighted.c:376 : Couldn't reach some vertices\n",
      "Warning at src/paths/unweighted.c:376 : Couldn't reach some vertices\n",
      "Warning at src/paths/unweighted.c:376 : Couldn't reach some vertices\n",
      "Warning at src/paths/unweighted.c:376 : Couldn't reach some vertices\n",
      "Warning at src/paths/unweighted.c:376 : Couldn't reach some vertices\n",
      "Warning at src/paths/unweighted.c:376 : Couldn't reach some vertices\n",
      "Warning at src/paths/unweighted.c:376 : Couldn't reach some vertices\n",
      "Warning at src/paths/unweighted.c:376 : Couldn't reach some vertices\n",
      "Warning at src/paths/unweighted.c:376 : Couldn't reach some vertices\n",
      "Warning at src/paths/unweighted.c:376 : Couldn't reach some vertices\n",
      "Warning at src/paths/unweighted.c:376 : Couldn't reach some vertices\n",
      "Warning at src/paths/unweighted.c:376 : Couldn't reach some vertices\n",
      "Warning at src/paths/unweighted.c:376 : Couldn't reach some vertices\n",
      "Warning at src/paths/unweighted.c:376 : Couldn't reach some vertices\n",
      "Warning at src/paths/unweighted.c:376 : Couldn't reach some vertices\n",
      "Warning at src/paths/unweighted.c:376 : Couldn't reach some vertices\n",
      "Warning at src/paths/unweighted.c:376 : Couldn't reach some vertices\n",
      "Warning at src/paths/unweighted.c:376 : Couldn't reach some vertices\n",
      "Warning at src/paths/unweighted.c:376 : Couldn't reach some vertices\n",
      "Warning at src/paths/unweighted.c:376 : Couldn't reach some vertices\n",
      "Warning at src/paths/unweighted.c:376 : Couldn't reach some vertices\n",
      "Warning at src/paths/unweighted.c:376 : Couldn't reach some vertices\n",
      "Warning at src/paths/unweighted.c:376 : Couldn't reach some vertices\n",
      "Warning at src/paths/unweighted.c:376 : Couldn't reach some vertices\n",
      "Warning at src/paths/unweighted.c:376 : Couldn't reach some vertices\n",
      "Warning at src/paths/unweighted.c:376 : Couldn't reach some vertices\n",
      "Warning at src/paths/unweighted.c:376 : Couldn't reach some vertices\n",
      "Warning at src/paths/unweighted.c:376 : Couldn't reach some vertices\n",
      "Warning at src/paths/unweighted.c:376 : Couldn't reach some vertices\n",
      "Warning at src/paths/unweighted.c:376 : Couldn't reach some vertices\n",
      "Warning at src/paths/unweighted.c:376 : Couldn't reach some vertices\n",
      "Warning at src/paths/unweighted.c:376 : Couldn't reach some vertices\n",
      "Warning at src/paths/unweighted.c:376 : Couldn't reach some vertices\n",
      "Warning at src/paths/unweighted.c:376 : Couldn't reach some vertices\n",
      "Warning at src/paths/unweighted.c:376 : Couldn't reach some vertices\n",
      "Warning at src/paths/unweighted.c:376 : Couldn't reach some vertices\n",
      "Warning at src/paths/unweighted.c:376 : Couldn't reach some vertices\n",
      "Warning at src/paths/unweighted.c:376 : Couldn't reach some vertices\n",
      "Warning at src/paths/unweighted.c:376 : Couldn't reach some vertices\n",
      "Warning at src/paths/unweighted.c:376 : Couldn't reach some vertices\n",
      "Warning at src/paths/unweighted.c:376 : Couldn't reach some vertices\n",
      "Warning at src/paths/unweighted.c:376 : Couldn't reach some vertices\n",
      "Warning at src/paths/unweighted.c:376 : Couldn't reach some vertices\n",
      "Warning at src/paths/unweighted.c:376 : Couldn't reach some vertices\n",
      "Warning at src/paths/unweighted.c:376 : Couldn't reach some vertices\n",
      "Warning at src/paths/unweighted.c:376 : Couldn't reach some vertices\n",
      "Warning at src/paths/unweighted.c:376 : Couldn't reach some vertices\n",
      "Warning at src/paths/unweighted.c:376 : Couldn't reach some vertices\n",
      "Warning at src/paths/unweighted.c:376 : Couldn't reach some vertices\n",
      "Warning at src/paths/unweighted.c:376 : Couldn't reach some vertices\n"
     ]
    }
   ],
   "source": [
    "from util.mesh import MeshProcessor\n",
    "from tqdm import tqdm\n",
    "import numpy as np\n",
    "import dask\n",
    "from dask.distributed import Client, progress\n",
    "import pandas as pd\n",
    "import socket\n",
    "\n",
    "\n",
    "cell = \"jrc_hela-2\"\n",
    "\n",
    "client = Client(threads_per_worker=2, n_workers=1)\n",
    "client.cluster.scale(20)\n",
    "dashboard_link = client.cluster.dashboard_link\n",
    "print(dashboard_link.replace(\"127.0.0.1\",socket.gethostbyname(socket.gethostname())))\n",
    "\n",
    "mp = MeshProcessor(\n",
    "    path=f\"https://janelia-cosem-datasets.s3.amazonaws.com/{cell}/neuroglancer/mesh/mito_seg\",\n",
    "    lod=2,\n",
    "    min_branch_length=100,\n",
    "    use_skeletons=True,\n",
    ")\n",
    "lazy_results = []\n",
    "for i in range(1, 422, 1):  # range(1,87077,100): #\n",
    "    lazy_results.append(mp.process_mesh(id=i))\n",
    "results = dask.compute(*lazy_results)\n",
    "client.close()\n",
    "df = pd.DataFrame.from_records(results)\n",
    "temp = df[[\"pic_0\", \"pic_1\", \"pic_2\"]].to_numpy() >= 0"
   ]
  },
  {
   "cell_type": "code",
   "execution_count": 24,
   "metadata": {},
   "outputs": [],
   "source": [
    "from imp import reload\n",
    "import util.neuroglancer_predictor as NP\n",
    "import util.fit_and_predict as FP\n",
    "np = NP.NeuroglancerPredictor(\"jrc_hela-2\")\n",
    "np.setup_neuroglancer()\n",
    "fp = FP.FitAndPredict(df, np)\n",
    "fp.set_metrics([\"volume\"])"
   ]
  },
  {
   "cell_type": "code",
   "execution_count": 25,
   "metadata": {},
   "outputs": [],
   "source": [
    "fp.set_metrics(\n",
    "        [\n",
    "            \"ob_normalized_0\",\n",
    "            \"ob_normalized_1\",\n",
    "            \"ob_normalized_2\",\n",
    "            \"pic_normalized_0\",\n",
    "            \"pic_normalized_1\",\n",
    "            \"pic_normalized_2\",\n",
    "            \"longest_path\",\n",
    "            \"num_fragments\",\n",
    "        ]   \n",
    ")\n"
   ]
  }
 ],
 "metadata": {
  "kernelspec": {
   "display_name": "Python 3.9.12 ('mesh_playground')",
   "language": "python",
   "name": "python3"
  },
  "language_info": {
   "codemirror_mode": {
    "name": "ipython",
    "version": 3
   },
   "file_extension": ".py",
   "mimetype": "text/x-python",
   "name": "python",
   "nbconvert_exporter": "python",
   "pygments_lexer": "ipython3",
   "version": "3.9.12"
  },
  "orig_nbformat": 4,
  "vscode": {
   "interpreter": {
    "hash": "abed3173296b2334008ab89813a3a22a499fa2a1f7359f7b6d9c981e636345c6"
   }
  }
 },
 "nbformat": 4,
 "nbformat_minor": 2
}

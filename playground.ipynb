{
 "cells": [
  {
   "cell_type": "code",
   "execution_count": 6,
   "metadata": {},
   "outputs": [
    {
     "ename": "AttributeError",
     "evalue": "'Trimesh' object has no attribute 'current_mesh'",
     "output_type": "error",
     "traceback": [
      "\u001b[0;31m---------------------------------------------------------------------------\u001b[0m",
      "\u001b[0;31mAttributeError\u001b[0m                            Traceback (most recent call last)",
      "\u001b[0;32m/var/folders/xj/4gvb93fs50b079ngd61xnff80000gp/T/ipykernel_60320/1292909520.py\u001b[0m in \u001b[0;36m<module>\u001b[0;34m\u001b[0m\n\u001b[1;32m      6\u001b[0m \u001b[0mmp\u001b[0m \u001b[0;34m=\u001b[0m \u001b[0mMeshProcessor\u001b[0m\u001b[0;34m(\u001b[0m\u001b[0mpath\u001b[0m \u001b[0;34m=\u001b[0m \u001b[0;34m\"https://janelia-cosem-datasets.s3.amazonaws.com/jrc_hela-2/neuroglancer/mesh/mito_seg\"\u001b[0m\u001b[0;34m,\u001b[0m\u001b[0mlod\u001b[0m \u001b[0;34m=\u001b[0m \u001b[0;36m0\u001b[0m\u001b[0;34m,\u001b[0m \u001b[0mmin_branch_length\u001b[0m \u001b[0;34m=\u001b[0m \u001b[0;36m20\u001b[0m\u001b[0;34m)\u001b[0m\u001b[0;34m\u001b[0m\u001b[0;34m\u001b[0m\u001b[0m\n\u001b[1;32m      7\u001b[0m \u001b[0mms\u001b[0m \u001b[0;34m=\u001b[0m \u001b[0mmp\u001b[0m\u001b[0;34m.\u001b[0m\u001b[0mget_mesh\u001b[0m\u001b[0;34m(\u001b[0m\u001b[0mid\u001b[0m\u001b[0;34m=\u001b[0m\u001b[0;36m45\u001b[0m\u001b[0;34m)\u001b[0m\u001b[0;34m\u001b[0m\u001b[0;34m\u001b[0m\u001b[0m\n\u001b[0;32m----> 8\u001b[0;31m \u001b[0mtrimesh_mesh\u001b[0m \u001b[0;34m=\u001b[0m \u001b[0mtrimesh\u001b[0m\u001b[0;34m.\u001b[0m\u001b[0mTrimesh\u001b[0m\u001b[0;34m(\u001b[0m\u001b[0mms\u001b[0m\u001b[0;34m.\u001b[0m\u001b[0mcurrent_mesh\u001b[0m\u001b[0;34m(\u001b[0m\u001b[0;34m)\u001b[0m\u001b[0;34m.\u001b[0m\u001b[0mvertex_matrix\u001b[0m\u001b[0;34m(\u001b[0m\u001b[0;34m)\u001b[0m\u001b[0;34m,\u001b[0m \u001b[0mms\u001b[0m\u001b[0;34m.\u001b[0m\u001b[0mcurrent_mesh\u001b[0m\u001b[0;34m(\u001b[0m\u001b[0;34m)\u001b[0m\u001b[0;34m.\u001b[0m\u001b[0mface_matrix\u001b[0m\u001b[0;34m(\u001b[0m\u001b[0;34m)\u001b[0m\u001b[0;34m)\u001b[0m\u001b[0;34m\u001b[0m\u001b[0;34m\u001b[0m\u001b[0m\n\u001b[0m",
      "\u001b[0;31mAttributeError\u001b[0m: 'Trimesh' object has no attribute 'current_mesh'"
     ]
    }
   ],
   "source": [
    "from scipy.sparse import csc_matrix\n",
    "import trimesh\n",
    "import skeletor as sk\n",
    "from util.mesh import MeshProcessor\n",
    "#mesh = trimesh.load(\"/Users/ackermand/Documents/Downloads/410_roi1.obj\")\n",
    "mp = MeshProcessor(path = \"https://janelia-cosem-datasets.s3.amazonaws.com/jrc_hela-2/neuroglancer/mesh/mito_seg\",lod = 0, min_branch_length = 20)\n",
    "ms = mp.get_mesh(id=45)\n",
    "trimesh_mesh = trimesh.Trimesh(ms.current_mesh().vertex_matrix(), ms.current_mesh().face_matrix())"
   ]
  },
  {
   "cell_type": "code",
   "execution_count": null,
   "metadata": {},
   "outputs": [],
   "source": [
    "trimesh_mesh.show()"
   ]
  },
  {
   "cell_type": "code",
   "execution_count": null,
   "metadata": {},
   "outputs": [],
   "source": [
    "#mesh = sk.pre.fix_mesh(mesh, remove_disconnected=5, inplace=False)\n",
    "mesh = sk.pre.contract(trimesh_mesh)"
   ]
  },
  {
   "cell_type": "code",
   "execution_count": null,
   "metadata": {},
   "outputs": [],
   "source": [
    "skel = sk.skeletonize.by_tangent_ball(trimesh_mesh)# \n",
    "# skel = sk.skeletonize.by_wavefront(trimesh_mesh, waves=1, step_size=2)\n",
    "#skel = sk.skeletonize.by_teasar(trimesh_mesh, inv_dist = 100)\n",
    "skel = sk.post.clean_up(skel)\n"
   ]
  },
  {
   "cell_type": "code",
   "execution_count": null,
   "metadata": {},
   "outputs": [],
   "source": [
    "import navis\n",
    "import numpy as np\n",
    "from navis import graph\n",
    "n = navis.TreeNeuron(skel, soma=None)\n",
    "pruned = navis.prune_twigs(n,100)\n",
    "seg_lengths_before = np.array([graph.segment_length(n, s) for s in n.segments])\n",
    "seg_lengths_after = np.array([graph.segment_length(pruned, s) for s in pruned.segments])\n",
    "\n",
    "print(seg_lengths_before,seg_lengths_after)\n",
    "skel2 = sk.Skeleton(pruned.nodes[['node_id', 'parent_id', 'x', 'y', 'z', 'radius']],mesh=trimesh_mesh)\n",
    "print(n.n_leafs,pruned.n_leafs)\n",
    "skel2 = sk.post.clean_up(skel2)\n",
    "n2 = navis.TreeNeuron(skel2, soma=None)\n",
    "longest_path = navis.longest_neurite(n2, from_root=False)\n",
    "navis.plot3d([n2,longest_path,trimesh_mesh])"
   ]
  },
  {
   "cell_type": "code",
   "execution_count": null,
   "metadata": {},
   "outputs": [],
   "source": [
    "skel.show(mesh=True)\n"
   ]
  },
  {
   "cell_type": "code",
   "execution_count": null,
   "metadata": {},
   "outputs": [],
   "source": [
    "import numpy as np\n",
    "import time\n",
    "metric = np.random.random(len(mesh.vertices))\n",
    "t = time.time()\n",
    "face_metrics = np.mean(metric[mesh.faces.flatten()].reshape((-1,3)),axis=1)\n"
   ]
  },
  {
   "cell_type": "code",
   "execution_count": null,
   "metadata": {},
   "outputs": [],
   "source": [
    "\n",
    "import numpy as np\n",
    "import time\n",
    "e = np.array(mesh.edges)\n",
    "t = time.time()\n",
    "temp = csc_matrix((np.ones(len(e)),(e[:,0],e[:,1])), shape=(len(mesh.vertices),len(mesh.vertices)))\n",
    "print(time.time()-t)\n",
    "t = time.time()\n",
    "for i in range(10):\n",
    "    temp = temp.dot(temp)\n",
    "print(type(temp))\n",
    "print(time.time()-t)\n",
    "rows,cols = temp.nonzero()\n",
    "cols[rows==0]"
   ]
  },
  {
   "cell_type": "code",
   "execution_count": null,
   "metadata": {},
   "outputs": [],
   "source": [
    "g = nx.from_edgelist(mesh.edges_unique)"
   ]
  },
  {
   "cell_type": "code",
   "execution_count": null,
   "metadata": {},
   "outputs": [],
   "source": [
    "a = dict(nx.all_pairs_shortest_path_length(g,cutoff=5))"
   ]
  },
  {
   "cell_type": "code",
   "execution_count": null,
   "metadata": {},
   "outputs": [],
   "source": [
    "a[0][0]"
   ]
  },
  {
   "cell_type": "code",
   "execution_count": null,
   "metadata": {},
   "outputs": [],
   "source": [
    "import pyglet\n",
    "window = pyglet.window.Window()\n",
    "label = pyglet.text.Label('Hello, world',\n",
    "                          font_name='Times New Roman',\n",
    "                          font_size=36,\n",
    "                          x=window.width//2, y=window.height//2,\n",
    "                          anchor_x='center', anchor_y='center')\n",
    "\n",
    "@window.event\n",
    "def on_draw():\n",
    "    window.clear()\n",
    "    label.draw()\n",
    "\n",
    "pyglet.app.run()"
   ]
  },
  {
   "cell_type": "code",
   "execution_count": null,
   "metadata": {},
   "outputs": [],
   "source": [
    "import numpy as np\n",
    "a = np.arange(10)\n",
    "a.clip(4,7)\n",
    "print(a)"
   ]
  },
  {
   "cell_type": "code",
   "execution_count": null,
   "metadata": {},
   "outputs": [],
   "source": [
    "import pymeshlab\n",
    "import numpy as np\n",
    "ms = pymeshlab.MeshSet()\n",
    "ms.load_new_mesh(\"/Users/ackermand/Documents/Downloads/410_roi1.obj\")\n",
    "# ms.load_new_mesh(\"./content/MPI-FAUST/meshes/tr_reg_000.ply\")\n",
    "mesh = ms.current_mesh()\n",
    "t = time.time()\n",
    "ms.meshing_repair_non_manifold_edges()\n",
    "t=time.time()\n",
    "ms.compute_scalar_by_geodesic_distance_from_given_point_per_vertex(np.array[mesh.vertex_matrix()[0,:]])\n",
    "print(time.time()-t)"
   ]
  },
  {
   "cell_type": "code",
   "execution_count": null,
   "metadata": {},
   "outputs": [],
   "source": [
    "print(mesh.vertex_matrix()[0,:])\n",
    "t=time.time()\n",
    "ms.compute_scalar_by_geodesic_distance_from_given_point_per_vertex(startpoint = mesh.vertex_matrix()[0,:],maxdistance=pymeshlab.Percentage(1))\n",
    "print(time.time()-t)"
   ]
  },
  {
   "cell_type": "code",
   "execution_count": 7,
   "metadata": {},
   "outputs": [
    {
     "name": "stderr",
     "output_type": "stream",
     "text": [
      "  0%|          | 0/421 [00:00<?, ?it/s]\n"
     ]
    },
    {
     "ename": "ValueError",
     "evalue": "setting an array element with a sequence.",
     "output_type": "error",
     "traceback": [
      "\u001b[0;31m---------------------------------------------------------------------------\u001b[0m",
      "\u001b[0;31mTypeError\u001b[0m                                 Traceback (most recent call last)",
      "\u001b[0;31mTypeError\u001b[0m: float() argument must be a string or a number, not 'Delayed'",
      "\nThe above exception was the direct cause of the following exception:\n",
      "\u001b[0;31mValueError\u001b[0m                                Traceback (most recent call last)",
      "\u001b[0;32m/var/folders/xj/4gvb93fs50b079ngd61xnff80000gp/T/ipykernel_60320/3246022449.py\u001b[0m in \u001b[0;36m<module>\u001b[0;34m\u001b[0m\n\u001b[1;32m     10\u001b[0m \u001b[0mmomenta\u001b[0m \u001b[0;34m=\u001b[0m \u001b[0mnp\u001b[0m\u001b[0;34m.\u001b[0m\u001b[0mzeros\u001b[0m\u001b[0;34m(\u001b[0m\u001b[0;34m(\u001b[0m\u001b[0;36m421\u001b[0m\u001b[0;34m,\u001b[0m\u001b[0;36m3\u001b[0m\u001b[0;34m)\u001b[0m\u001b[0;34m,\u001b[0m\u001b[0mdtype\u001b[0m\u001b[0;34m=\u001b[0m\u001b[0mnp\u001b[0m\u001b[0;34m.\u001b[0m\u001b[0mfloat32\u001b[0m\u001b[0;34m)\u001b[0m\u001b[0;34m\u001b[0m\u001b[0;34m\u001b[0m\u001b[0m\n\u001b[1;32m     11\u001b[0m \u001b[0;32mfor\u001b[0m \u001b[0mi\u001b[0m \u001b[0;32min\u001b[0m \u001b[0mtqdm\u001b[0m\u001b[0;34m(\u001b[0m\u001b[0mrange\u001b[0m\u001b[0;34m(\u001b[0m\u001b[0;36m1\u001b[0m\u001b[0;34m,\u001b[0m\u001b[0;36m422\u001b[0m\u001b[0;34m)\u001b[0m\u001b[0;34m)\u001b[0m\u001b[0;34m:\u001b[0m\u001b[0;34m\u001b[0m\u001b[0;34m\u001b[0m\u001b[0m\n\u001b[0;32m---> 12\u001b[0;31m     \u001b[0mmomenta\u001b[0m\u001b[0;34m[\u001b[0m\u001b[0mi\u001b[0m\u001b[0;34m-\u001b[0m\u001b[0;36m1\u001b[0m\u001b[0;34m,\u001b[0m\u001b[0;34m:\u001b[0m\u001b[0;34m]\u001b[0m \u001b[0;34m=\u001b[0m \u001b[0mmp\u001b[0m\u001b[0;34m.\u001b[0m\u001b[0mprocess_mesh\u001b[0m\u001b[0;34m(\u001b[0m\u001b[0mid\u001b[0m\u001b[0;34m=\u001b[0m\u001b[0mi\u001b[0m\u001b[0;34m)\u001b[0m\u001b[0;34m\u001b[0m\u001b[0;34m\u001b[0m\u001b[0m\n\u001b[0m\u001b[1;32m     13\u001b[0m \u001b[0;34m\u001b[0m\u001b[0m\n\u001b[1;32m     14\u001b[0m \u001b[0;34m\u001b[0m\u001b[0m\n",
      "\u001b[0;31mValueError\u001b[0m: setting an array element with a sequence."
     ]
    }
   ],
   "source": [
    "from util.mesh import MeshProcessor\n",
    "from tqdm import tqdm\n",
    "import numpy as np\n",
    "\n",
    "mp = MeshProcessor(path = \"https://janelia-cosem-datasets.s3.amazonaws.com/jrc_hela-2/neuroglancer/mesh/mito_seg\",lod = 0, min_branch_length = 20, )\n",
    "#mp.process_mesh(id=53994)\n",
    "#mp.process_mesh(id=84602)\n",
    "#mp.process_mesh(id=322)\n",
    "#mp.process_mesh(id=116)\n",
    "momenta = np.zeros((421,3),dtype=np.float32)\n",
    "for i in tqdm(range(1,422)):\n",
    "    momenta[i-1,:] = mp.process_mesh(id=i)\n",
    "\n",
    "\n"
   ]
  },
  {
   "cell_type": "code",
   "execution_count": 5,
   "metadata": {},
   "outputs": [
    {
     "name": "stderr",
     "output_type": "stream",
     "text": [
      "/Users/ackermand/miniconda3/envs/mesh_playground/lib/python3.7/site-packages/distributed/node.py:161: UserWarning: Port 8787 is already in use.\n",
      "Perhaps you already have a cluster running?\n",
      "Hosting the HTTP server on port 61570 instead\n",
      "  f\"Port {expected} is already in use.\\n\"\n"
     ]
    },
    {
     "name": "stdout",
     "output_type": "stream",
     "text": [
      "http://127.0.0.1:61570/status\n"
     ]
    },
    {
     "name": "stderr",
     "output_type": "stream",
     "text": [
      "/Users/ackermand/miniconda3/envs/mesh_playground/lib/python3.7/site-packages/trimesh/util.py:128: RuntimeWarning: invalid value encountered in reciprocal\n",
      "  norm[valid] **= -1\n",
      "/Users/ackermand/miniconda3/envs/mesh_playground/lib/python3.7/site-packages/trimesh/util.py:128: RuntimeWarning: invalid value encountered in reciprocal\n",
      "  norm[valid] **= -1\n",
      "/Users/ackermand/miniconda3/envs/mesh_playground/lib/python3.7/site-packages/trimesh/util.py:128: RuntimeWarning: invalid value encountered in reciprocal\n",
      "  norm[valid] **= -1\n",
      "/Users/ackermand/miniconda3/envs/mesh_playground/lib/python3.7/site-packages/trimesh/util.py:128: RuntimeWarning: invalid value encountered in reciprocal\n",
      "  norm[valid] **= -1\n",
      "/Users/ackermand/miniconda3/envs/mesh_playground/lib/python3.7/site-packages/trimesh/util.py:128: RuntimeWarning: invalid value encountered in reciprocal\n",
      "  norm[valid] **= -1\n",
      "/Users/ackermand/miniconda3/envs/mesh_playground/lib/python3.7/site-packages/trimesh/util.py:128: RuntimeWarning: invalid value encountered in reciprocal\n",
      "  norm[valid] **= -1\n"
     ]
    },
    {
     "name": "stdout",
     "output_type": "stream",
     "text": [
      "True\n"
     ]
    }
   ],
   "source": [
    "from util.mesh import MeshProcessor\n",
    "from tqdm import tqdm\n",
    "import numpy as np\n",
    "import dask\n",
    "from dask.distributed import Client, progress\n",
    "import pandas as pd\n",
    "\n",
    "client = Client(threads_per_worker=2, n_workers=1)\n",
    "client.cluster.scale(8)\n",
    "print(client.dashboard_link)\n",
    "mp = MeshProcessor(path = \"https://janelia-cosem-datasets.s3.amazonaws.com/jrc_mus-liver/neuroglancer/mesh/mito_seg\",lod = 0, min_branch_length = 100, use_skeletons=True)\n",
    "#momenta = np.zeros((421,3),dtype=np.float32)\n",
    "lazy_results = []\n",
    "for i in range(1,87077,100): #range(1,422,1):#\n",
    "    lazy_results.append(mp.process_mesh(id=i))\n",
    "results = dask.compute(*lazy_results)\n",
    "df = pd.DataFrame.from_records(results)\n",
    "temp = df[[\"principal_inertia_component_0\",\"principal_inertia_component_1\",\"principal_inertia_component_2\"]].to_numpy()>=0\n",
    "print(temp.all())\n"
   ]
  },
  {
   "cell_type": "code",
   "execution_count": 2,
   "metadata": {},
   "outputs": [
    {
     "data": {
      "text/plain": [
       "True"
      ]
     },
     "execution_count": 2,
     "metadata": {},
     "output_type": "execute_result"
    }
   ],
   "source": [
    "temp = df[[\"principal_inertia_component_0\",\"principal_inertia_component_1\",\"principal_inertia_component_2\"]].to_numpy()>=0\n",
    "temp.all()"
   ]
  },
  {
   "cell_type": "code",
   "execution_count": 3,
   "metadata": {},
   "outputs": [
    {
     "name": "stdout",
     "output_type": "stream",
     "text": [
      "      id        volume  surface_area  principal_inertia_component_0  principal_inertia_component_normalized_0  principal_inertia_component_1  principal_inertia_component_normalized_1  principal_inertia_component_2  principal_inertia_component_normalized_2  num_fragments  num_branches  longest_path\n",
      "0      1  6.089691e+06  2.403698e+05                   1.401700e+10                                  0.045627                   1.448537e+11                                  0.471512                   1.483402e+11                                  0.482861              1             0    579.152499\n",
      "1      2  5.372239e+05  3.709387e+04                   4.831928e+08                                  0.256861                   5.866144e+08                                  0.311839                   8.113388e+08                                  0.431300              1             0    128.265584\n",
      "2      3  3.795491e+06  1.730737e+05                   1.564522e+10                                  0.203388                   2.615400e+10                                  0.340002                   3.512392e+10                                  0.456611              1             0    437.311031\n",
      "3      4  3.328081e+06  1.680073e+05                   4.119663e+09                                  0.029936                   6.623065e+10                                  0.481280                   6.726328e+10                                  0.488784              1             0    493.064510\n",
      "4      5  4.349920e+06  2.392522e+05                   1.778201e+10                                  0.080988                   9.385827e+10                                  0.427479                   1.079222e+11                                  0.491533              2             1    598.049082\n",
      "5      6  9.331677e+06  3.962556e+05                   8.848066e+10                                  0.208604                   1.453912e+11                                  0.342777                   1.902848e+11                                  0.448619              2             4    696.314408\n",
      "6      7  4.823843e+06  1.955363e+05                   9.601359e+09                                  0.060881                   7.218835e+10                                  0.457738                   7.591712e+10                                  0.481381              1             0    479.859535\n",
      "7      8  5.312775e+05  3.694470e+04                   3.768057e+08                                  0.192858                   7.390703e+08                                  0.378273                   8.379260e+08                                  0.428869              1             0    139.229696\n",
      "8      9  4.321803e+05  3.162127e+04                   3.426386e+08                                  0.286542                   4.065103e+08                                  0.339956                   4.466233e+08                                  0.373502              1             0    143.262313\n",
      "9     10  1.215843e+07  5.155647e+05                   1.375766e+11                                  0.104158                   5.422779e+11                                  0.410553                   6.409936e+11                                  0.485289              3             3   1054.655554\n",
      "10    11  2.632274e+06  1.441766e+05                   3.451304e+09                                  0.046502                   3.484823e+10                                  0.469535                   3.591914e+10                                  0.483964              1             0    489.177441\n",
      "11    12  1.116366e+06  6.091313e+04                   1.413223e+09                                  0.214078                   2.346972e+09                                  0.355524                   2.841247e+09                                  0.430398              1             0    176.610121\n",
      "12    13  1.394025e+06  6.979275e+04                   2.406988e+09                                  0.266209                   2.784075e+09                                  0.307914                   3.850667e+09                                  0.425877              1             0    190.261161\n",
      "13    14  7.889391e+05  5.063288e+04                   7.470897e+08                                  0.187781                   1.488641e+09                                  0.374171                   1.742776e+09                                  0.438048              1             0    150.070332\n",
      "14    15  4.875710e+05  3.465611e+04                   4.229339e+08                                  0.275230                   4.734989e+08                                  0.308136                   6.402224e+08                                  0.416634              0             0      0.000000\n",
      "15    16  3.740526e+06  1.546190e+05                   8.963356e+09                                  0.132012                   2.902802e+10                                  0.427524                   2.990668e+10                                  0.440464              1             1    322.178482\n",
      "16    17  1.986651e+06  9.295358e+04                   3.613009e+09                                  0.195367                   6.597607e+09                                  0.356754                   8.282824e+09                                  0.447879              1             0    165.687632\n",
      "17    18  1.093423e+06  5.721224e+04                   1.575545e+09                                  0.281569                   1.861142e+09                                  0.332609                   2.158905e+09                                  0.385823              0             0      0.000000\n",
      "18    19  1.519328e+06  7.356236e+04                   2.568160e+09                                  0.250028                   3.453941e+09                                  0.336264                   4.249410e+09                                  0.413708              0             0      0.000000\n",
      "19    20  1.406302e+06  7.637075e+04                   1.708674e+09                                  0.140204                   4.865993e+09                                  0.399275                   5.612406e+09                                  0.460521              1             0    183.519301\n",
      "20    21  1.403523e+07  6.162567e+05                   1.696457e+11                                  0.147829                   4.446071e+11                                  0.387430                   5.333270e+11                                  0.464741              5             6    984.338673\n",
      "21    22  1.111895e+07  5.608984e+05                   1.964327e+10                                  0.003642                   2.682738e+12                                  0.497466                   2.690425e+12                                  0.498891              1             0   1729.341019\n",
      "22    23  1.663768e+06  7.800128e+04                   3.326766e+09                                  0.283052                   3.558733e+09                                  0.302789                   4.867681e+09                                  0.414159              1             0    211.979658\n",
      "23    24  7.661529e+05  4.575317e+04                   8.090673e+08                                  0.248392                   1.103731e+09                                  0.338857                   1.344416e+09                                  0.412750              1             0    108.891012\n",
      "24    25  1.504154e+06  7.415240e+04                   2.819472e+09                                  0.268274                   3.126251e+09                                  0.297464                   4.563952e+09                                  0.434262              1             0    155.772766\n",
      "25    26  4.042606e+06  2.344998e+05                   7.497643e+09                                  0.031167                   1.163445e+11                                  0.483639                   1.167186e+11                                  0.485194              1             1    849.443291\n",
      "26    27  1.514828e+06  8.255116e+04                   2.067776e+09                                  0.143552                   5.668483e+09                                  0.393525                   6.668103e+09                                  0.462922              1             0    234.029349\n",
      "27    28  2.460261e+06  1.360837e+05                   2.407813e+09                                  0.032036                   3.605721e+10                                  0.479747                   3.669377e+10                                  0.488217              1             0    414.483651\n",
      "28    29  2.125870e+06  1.026018e+05                   4.652386e+09                                  0.221312                   7.020019e+09                                  0.333939                   9.349470e+09                                  0.444750              1             0    266.580109\n",
      "29    30  9.856238e+05  5.529491e+04                   1.300229e+09                                  0.252223                   1.633752e+09                                  0.316921                   2.221098e+09                                  0.430856              1             0    133.154774\n",
      "30    31  1.866080e+06  8.685610e+04                   3.348837e+09                                  0.217758                   5.878720e+09                                  0.382264                   6.151133e+09                                  0.399978              1             0    145.776657\n",
      "31    32  5.641529e+06  2.630454e+05                   1.167486e+10                                  0.024180                   2.328316e+11                                  0.482223                   2.383234e+11                                  0.493597              1             0    685.739463\n",
      "32    33  1.657987e+06  9.493179e+04                   2.309249e+09                                  0.111552                   8.654305e+09                                  0.418060                   9.737543e+09                                  0.470388              1             0    218.233429\n",
      "33    34  4.602373e+06  2.443724e+05                   1.037051e+10                                  0.041450                   1.169544e+11                                  0.467452                   1.228704e+11                                  0.491098              1             1    964.075654\n",
      "34    35  1.027022e+06  7.474977e+04                   6.300169e+08                                  0.042476                   7.012555e+09                                  0.472791                   7.189679e+09                                  0.484733              1             0    251.049877\n",
      "35    36  4.217935e+06  1.700951e+05                   1.059976e+10                                  0.128277                   3.485353e+10                                  0.421793                   3.717849e+10                                  0.449930              1             0    482.919294\n",
      "36    37  4.077293e+06  1.976349e+05                   1.145393e+10                                  0.091634                   5.624572e+10                                  0.449976                   5.729757e+10                                  0.458391              2             1    483.293182\n",
      "37    38  3.933552e+06  1.983496e+05                   8.067392e+09                                  0.071948                   5.127916e+10                                  0.457324                   5.278223e+10                                  0.470729              1             1    476.367222\n",
      "38    39  1.792646e+06  8.627536e+04                   2.688341e+09                                  0.167933                   6.351294e+09                                  0.396748                   6.968749e+09                                  0.435319              1             0    222.380651\n",
      "39    40  3.380336e+06  1.708098e+05                   8.341758e+09                                  0.107362                   3.267956e+10                                  0.420599                   3.667631e+10                                  0.472039              1             1    472.032337\n",
      "40    41  1.133042e+06  9.652554e+04                   6.225892e+08                                  0.016717                   1.819334e+10                                  0.488491                   1.842803e+10                                  0.494792              1             0    475.420223\n",
      "41    42  8.448259e+06  3.887278e+05                   1.582851e+10                                  0.010273                   7.595675e+11                                  0.492971                   7.654005e+11                                  0.496756              2             1    954.164486\n",
      "42    43  1.075280e+06  6.745180e+04                   9.831452e+08                                  0.116193                   3.655201e+09                                  0.431988                   3.822998e+09                                  0.451819              1             0    105.931865\n",
      "43    44  5.467077e+06  2.184320e+05                   1.645881e+10                                  0.086495                   8.418580e+10                                  0.442419                   8.964059e+10                                  0.471085              1             0    537.255021\n",
      "44    45  8.216769e+06  3.955954e+05                   3.923357e+10                                  0.061279                   2.890954e+11                                  0.451536                   3.119193e+11                                  0.487185              2             3    852.540451\n",
      "45    46  1.912747e+06  8.702029e+04                   3.968265e+09                                  0.254485                   4.895578e+09                                  0.313954                   6.729470e+09                                  0.431561              1             0    139.394674\n",
      "46    47  1.568829e+07  6.243746e+05                   1.968621e+11                                  0.077718                   1.087728e+12                                  0.429420                   1.248427e+12                                  0.492862              2             2   1183.028035\n",
      "47    48  4.863347e+06  2.034737e+05                   1.335177e+10                                  0.076061                   7.788536e+10                                  0.443688                   8.430354e+10                                  0.480251              1             1    480.311193\n",
      "48    49  1.506902e+07  5.842771e+05                   2.438159e+11                                  0.117210                   8.124375e+11                                  0.390564                   1.023913e+12                                  0.492227              3             2   1021.741039\n",
      "49    50  9.219668e+05  5.097256e+04                   1.178379e+09                                  0.273599                   1.387499e+09                                  0.322153                   1.741073e+09                                  0.404247              0             0      0.000000\n",
      "50    51  1.490816e+06  7.248259e+04                   2.287993e+09                                  0.227775                   3.699358e+09                                  0.368280                   4.057621e+09                                  0.403945              1             0    177.960178\n",
      "51    52  7.788342e+05  4.621707e+04                   8.599380e+08                                  0.262436                   1.092070e+09                                  0.333278                   1.324746e+09                                  0.404286              1             0    139.533447\n",
      "52    53  5.946886e+05  4.344373e+04                   3.478826e+08                                  0.110203                   1.395476e+09                                  0.442062                   1.413385e+09                                  0.447735              1             0    155.245956\n",
      "53    54  1.386188e+06  6.930559e+04                   2.450825e+09                                  0.269786                   2.708102e+09                                  0.298107                   3.925407e+09                                  0.432107              1             0    163.216202\n",
      "54    55  2.755863e+06  1.390134e+05                   3.187111e+09                                  0.041301                   3.672058e+10                                  0.475850                   3.726074e+10                                  0.482850              1             0    317.791943\n",
      "55    56  2.018819e+06  1.399682e+05                   8.144019e+09                                  0.121493                   2.600539e+10                                  0.387951                   3.288330e+10                                  0.490556              1             0    553.555545\n",
      "56    57  5.158299e+06  1.699302e+05                   2.157385e+10                                  0.258476                   2.523191e+10                                  0.302304                   3.665966e+10                                  0.439220              1             0    288.880688\n",
      "57    58  3.174737e+06  1.394392e+05                   5.340099e+09                                  0.085339                   2.838486e+10                                  0.453611                   2.885039e+10                                  0.461050              1             1    300.905833\n",
      "58    59  7.261449e+06  2.800922e+05                   1.981334e+10                                  0.054599                   1.661642e+11                                  0.457895                   1.769095e+11                                  0.487506              1             0    539.823370\n",
      "59    60  1.259619e+06  8.024049e+04                   9.933179e+08                                  0.057867                   7.938717e+09                                  0.462478                   8.233593e+09                                  0.479656              1             0    291.477415\n",
      "60    61  3.528056e+07  1.584602e+06                   6.166688e+11                                  0.049558                   5.685541e+12                                  0.456910                   6.141256e+12                                  0.493533              6             9   3152.944704\n",
      "61    62  6.315310e+05  4.036061e+04                   6.257078e+08                                  0.265739                   7.503262e+08                                  0.318665                   9.785602e+08                                  0.415596              0             0      0.000000\n",
      "62    63  4.631803e+06  2.531492e+05                   4.700882e+10                                  0.208512                   6.737520e+10                                  0.298849                   1.110651e+11                                  0.492639              2             1    817.770515\n",
      "63    64  5.519946e+06  2.250224e+05                   1.176813e+10                                  0.051824                   1.047429e+11                                  0.461260                   1.105690e+11                                  0.486916              1             0    530.115509\n",
      "64    65  3.535049e+06  1.858610e+05                   5.396445e+09                                  0.034696                   7.487645e+10                                  0.481413                   7.526193e+10                                  0.483891              1             0    556.232954\n",
      "65    66  1.861910e+06  1.005545e+05                   2.868916e+09                                  0.147001                   7.842190e+09                                  0.401828                   8.805168e+09                                  0.451171              1             0    278.155523\n",
      "66    67  1.058479e+06  5.936362e+04                   1.144366e+09                                  0.181391                   2.444932e+09                                  0.387541                   2.719529e+09                                  0.431067              1             0    131.156647\n",
      "67    68  4.384812e+06  1.981520e+05                   1.230470e+10                                  0.120049                   4.263163e+10                                  0.415929                   4.756106e+10                                  0.464022              1             1    389.361909\n",
      "68    69  6.704202e+05  5.116373e+04                   4.451934e+08                                  0.108071                   1.761593e+09                                  0.427627                   1.912678e+09                                  0.464303              1             0    108.883727\n",
      "69    70  7.687303e+05  4.611087e+04                   7.454080e+08                                  0.224012                   1.247072e+09                                  0.374773                   1.335058e+09                                  0.401215              0             0      0.000000\n",
      "70    71  2.305968e+06  9.598291e+04                   5.074665e+09                                  0.247303                   6.915904e+09                                  0.337032                   8.529466e+09                                  0.415665              1             0    207.175188\n",
      "71    72  1.488196e+06  7.861624e+04                   1.808812e+09                                  0.138280                   5.355856e+09                                  0.409443                   5.916165e+09                                  0.452277              1             0    182.198103\n",
      "72    73  1.237595e+06  7.270668e+04                   1.477965e+09                                  0.152700                   3.849606e+09                                  0.397733                   4.351306e+09                                  0.449567              1             0    199.695526\n",
      "73    74  1.095269e+07  4.503797e+05                   2.924563e+10                                  0.015176                   9.441839e+11                                  0.489941                   9.537068e+11                                  0.494883              2             1    864.580881\n",
      "74    75  7.659384e+05  4.952315e+04                   8.203554e+08                                  0.220411                   1.229452e+09                                  0.330326                   1.672131e+09                                  0.449263              1             0    174.818947\n",
      "75    76  3.112475e+07  1.361014e+06                   1.279122e+12                                  0.052208                   1.106721e+13                                  0.451718                   1.215395e+13                                  0.496074              4             8   2688.835143\n",
      "76    77  6.470819e+05  4.127110e+04                   6.177633e+08                                  0.256387                   8.362479e+08                                  0.347063                   9.554865e+08                                  0.396550              1             0    105.775324\n",
      "77    78  1.772021e+06  1.091954e+05                   1.987284e+09                                  0.047935                   1.931999e+10                                  0.466017                   2.015045e+10                                  0.486048              1             0    431.033355\n",
      "78    79  1.607290e+06  7.452142e+04                   2.893285e+09                                  0.267042                   3.624589e+09                                  0.334540                   4.316683e+09                                  0.398418              1             0    225.666416\n",
      "79    80  1.059773e+06  9.137295e+04                   8.222457e+08                                  0.037956                   1.022088e+10                                  0.471808                   1.062011e+10                                  0.490237              1             0    353.025977\n",
      "80    81  8.037305e+05  5.882331e+04                   5.523339e+08                                  0.085239                   2.859521e+09                                  0.441294                   3.067998e+09                                  0.473467              1             0    220.492655\n",
      "81    82  1.272476e+06  7.192703e+04                   1.260201e+09                                  0.109600                   4.996323e+09                                  0.434532                   5.241639e+09                                  0.455868              1             0    207.905953\n",
      "82    83  1.501366e+06  1.007068e+05                   1.243757e+09                                  0.045370                   1.301204e+10                                  0.474660                   1.315758e+10                                  0.479969              1             0    371.181669\n",
      "83    84  5.027882e+05  3.385510e+04                   4.477503e+08                                  0.285575                   4.846038e+08                                  0.309081                   6.355339e+08                                  0.405344              1             0    103.253193\n",
      "84    85  1.997227e+06  1.379188e+05                   1.580587e+09                                  0.015717                   4.923878e+10                                  0.489613                   4.974747e+10                                  0.494671              1             0    499.561313\n",
      "85    86  2.178245e+06  9.644834e+04                   4.830726e+09                                  0.239136                   6.446515e+09                                  0.319123                   8.923486e+09                                  0.441741              1             0    274.632121\n",
      "86    87  4.503122e+06  2.418301e+05                   9.695832e+09                                  0.049404                   9.141377e+10                                  0.465784                   9.514811e+10                                  0.484812              1             0    649.706479\n",
      "87    88  1.947799e+06  1.092812e+05                   3.224615e+09                                  0.129203                   1.001771e+10                                  0.401386                   1.171548e+10                                  0.469412              1             0    291.522955\n",
      "88    89  3.379539e+06  1.579971e+05                   4.921655e+09                                  0.052147                   4.390515e+10                                  0.465191                   4.555413e+10                                  0.482662              1             1    331.933328\n",
      "89    90  3.670861e+06  1.753499e+05                   7.671080e+09                                  0.072706                   4.771102e+10                                  0.452204                   5.012575e+10                                  0.475090              2             1    476.943246\n",
      "90    91  7.972641e+05  5.350318e+04                   8.515207e+08                                  0.201240                   1.531887e+09                                  0.362030                   1.847969e+09                                  0.436730              1             0    157.967653\n",
      "91    92  8.404644e+06  3.955093e+05                   2.377344e+10                                  0.015069                   7.720554e+11                                  0.489387                   7.817693e+11                                  0.495544              1             1   1106.178260\n",
      "92    93  1.948131e+06  9.375779e+04                   2.962119e+09                                  0.151091                   7.978724e+09                                  0.406975                   8.664091e+09                                  0.441934              1             0    191.412999\n",
      "93    94  1.175658e+06  9.384312e+04                   1.239870e+09                                  0.051723                   1.113674e+10                                  0.464589                   1.159455e+10                                  0.483688              1             0    309.059234\n",
      "94    95  8.744371e+06  3.287022e+05                   2.338976e+10                                  0.038444                   2.864636e+11                                  0.470844                   2.985513e+11                                  0.490712              1             0    678.913597\n",
      "95    96  5.593143e+06  2.676383e+05                   2.126318e+10                                  0.066612                   1.431529e+11                                  0.448463                   1.547919e+11                                  0.484925              1             0    672.150750\n",
      "96    97  5.565516e+05  4.317077e+04                   3.330591e+08                                  0.116658                   1.240439e+09                                  0.434479                   1.281506e+09                                  0.448863              1             0    128.739796\n",
      "97    98  1.075431e+06  7.421259e+04                   1.084100e+09                                  0.085114                   5.537279e+09                                  0.434740                   6.115608e+09                                  0.480146              2             1    239.497339\n",
      "98    99  1.687420e+07  7.427954e+05                   7.303436e+10                                  0.020581                   1.726089e+12                                  0.486406                   1.749535e+12                                  0.493013              2             4   1358.185320\n",
      "99   100  3.598090e+06  1.286239e+05                   1.030811e+10                                  0.242163                   1.548418e+10                                  0.363762                   1.677448e+10                                  0.394075              1             1    396.413466\n",
      "100  101  8.007249e+05  4.704216e+04                   9.970716e+08                                  0.287291                   1.031924e+09                                  0.297333                   1.441602e+09                                  0.415376              1             0    110.699003\n",
      "101  102  6.619053e+05  4.802325e+04                   5.653879e+08                                  0.190096                   1.143178e+09                                  0.384361                   1.265664e+09                                  0.425543              1             0    170.230364\n",
      "102  103  5.817218e+05  4.088575e+04                   4.530975e+08                                  0.196855                   8.614222e+08                                  0.374258                   9.871575e+08                                  0.428886              0             0      0.000000\n",
      "103  104  1.069086e+06  6.491574e+04                   9.875997e+08                                  0.118728                   3.615784e+09                                  0.434685                   3.714789e+09                                  0.446587              1             0    206.883956\n",
      "104  105  5.524489e+05  3.727859e+04                   5.082208e+08                                  0.281323                   6.012448e+08                                  0.332816                   6.970702e+08                                  0.385860              0             0      0.000000\n",
      "105  106  4.973837e+05  3.385237e+04                   4.602513e+08                                  0.310374                   4.766897e+08                                  0.321459                   5.459515e+08                                  0.368167              1             0    124.164836\n",
      "106  107  1.314368e+06  8.812753e+04                   1.179975e+09                                  0.069242                   7.832073e+09                                  0.459594                   8.029237e+09                                  0.471164              1             0    316.147080\n",
      "107  108  1.106281e+07  4.699440e+05                   3.305165e+10                                  0.016240                   9.922690e+11                                  0.487543                   1.009923e+12                                  0.496217              1             1   1113.768131\n",
      "108  109  2.382801e+07  9.885067e+05                   2.006295e+11                                  0.016471                   5.916242e+12                                  0.485691                   6.064216e+12                                  0.497839              2             2   1675.207464\n",
      "109  110  6.912730e+06  2.583263e+05                   1.914631e+10                                  0.066285                   1.328390e+11                                  0.459889                   1.368647e+11                                  0.473826              1             1    567.350370\n",
      "110  111  1.038739e+06  5.818054e+04                   1.126860e+09                                  0.185297                   2.336634e+09                                  0.384228                   2.617885e+09                                  0.430476              1             0    146.343582\n",
      "111  112  6.157930e+05  4.940500e+04                   4.632977e+08                                  0.124429                   1.538403e+09                                  0.413173                   1.721688e+09                                  0.462398              1             0    186.028018\n",
      "112  113  1.266605e+07  5.935371e+05                   7.221071e+10                                  0.026877                   1.300747e+12                                  0.484140                   1.313761e+12                                  0.488983              3             2   1246.126391\n",
      "113  114  6.982490e+06  3.342204e+05                   1.619924e+10                                  0.022036                   3.575753e+11                                  0.486409                   3.613584e+11                                  0.491555              2             1    970.862675\n",
      "114  115  9.634378e+05  7.358389e+04                   8.622719e+08                                  0.094984                   3.950458e+09                                  0.435163                   4.265374e+09                                  0.469853              1             0    210.879215\n",
      "115  116  2.160972e+07  9.266775e+05                   1.954817e+11                                  0.017732                   5.346142e+12                                  0.484933                   5.482870e+12                                  0.497335              1             0   2222.419136\n",
      "116  117  3.377543e+06  1.427010e+05                   7.210583e+09                                  0.123643                   2.486509e+10                                  0.426371                   2.624231e+10                                  0.449987              1             0    156.438645\n",
      "117  118  5.851699e+06  3.014938e+05                   1.703013e+10                                  0.026604                   3.061164e+11                                  0.478209                   3.169848e+11                                  0.495187              1             1    728.646997\n",
      "118  119  3.982762e+06  1.737807e+05                   9.756457e+09                                  0.095789                   4.417367e+10                                  0.433700                   4.792301e+10                                  0.470511              1             0    434.953966\n",
      "119  120  8.157481e+06  3.781154e+05                   5.127032e+10                                  0.090447                   2.406003e+11                                  0.424448                   2.749845e+11                                  0.485105              1             2    990.061425\n",
      "120  121  1.021121e+07  3.815575e+05                   7.313215e+10                                  0.162754                   1.743946e+11                                  0.388112                   2.018143e+11                                  0.449134              2             3   1004.862728\n",
      "121  122  9.821372e+06  4.606448e+05                   3.497058e+10                                  0.013225                   1.297044e+12                                  0.490510                   1.312262e+12                                  0.496265              2             1   1262.920623\n",
      "122  123  9.489382e+05  5.795169e+04                   1.000373e+09                                  0.190496                   2.014748e+09                                  0.383658                   2.236296e+09                                  0.425846              1             0    209.707916\n",
      "123  124  1.647256e+06  8.582669e+04                   1.885159e+09                                  0.105640                   7.955860e+09                                  0.445827                   8.004165e+09                                  0.448534              1             0    265.444467\n",
      "124  125  1.591308e+06  7.857826e+04                   3.004664e+09                                  0.251665                   3.651248e+09                                  0.305822                   5.283207e+09                                  0.442512              1             0    258.323820\n",
      "125  126  5.618213e+05  3.684494e+04                   5.425726e+08                                  0.294644                   6.029670e+08                                  0.327441                   6.959117e+08                                  0.377915              1             0    156.879649\n",
      "126  127  5.041813e+05  3.657943e+04                   3.891798e+08                                  0.218219                   6.111753e+08                                  0.342695                   7.830816e+08                                  0.439086              0             0      0.000000\n",
      "127  128  9.819082e+05  6.166175e+04                   9.211835e+08                                  0.139753                   2.709509e+09                                  0.411060                   2.960817e+09                                  0.449186              0             0      0.000000\n",
      "128  129  6.695810e+06  2.988004e+05                   1.318781e+10                                  0.020583                   3.122287e+11                                  0.487316                   3.152939e+11                                  0.492100              1             0    794.188552\n",
      "129  130  1.295435e+06  8.154833e+04                   1.577862e+09                                  0.124806                   5.330948e+09                                  0.421670                   5.733664e+09                                  0.453524              1             0    246.351852\n",
      "130  131  6.708080e+05  4.103973e+04                   7.245549e+08                                  0.290495                   7.841228e+08                                  0.314378                   9.855281e+08                                  0.395127              1             0    131.740351\n",
      "131  132  1.116407e+06  6.933772e+04                   1.174366e+09                                  0.133759                   3.551394e+09                                  0.404501                   4.053934e+09                                  0.461740              1             1    214.284262\n",
      "132  133  3.171316e+06  1.474422e+05                   8.397072e+09                                  0.131991                   2.552182e+10                                  0.401169                   2.969977e+10                                  0.466841              1             1    339.431861\n",
      "133  134  7.158445e+05  4.421082e+04                   6.891088e+08                                  0.230430                   1.052992e+09                                  0.352109                   1.248430e+09                                  0.417461              0             0      0.000000\n",
      "134  135  1.479271e+06  7.123411e+04                   2.489754e+09                                  0.255947                   3.209880e+09                                  0.329976                   4.027998e+09                                  0.414078              1             0    144.753447\n",
      "135  136  1.603894e+06  7.817366e+04                   2.230219e+09                                  0.176077                   5.037165e+09                                  0.397686                   5.398786e+09                                  0.426237              1             0    132.261956\n",
      "136  137  3.729026e+07  1.744435e+06                   9.888275e+11                                  0.072821                   5.909933e+12                                  0.435230                   6.680110e+12                                  0.491949              3             9   3726.918827\n",
      "137  138  7.747590e+07  3.014387e+06                   3.628764e+12                                  0.066172                   2.398813e+13                                  0.437436                   2.722114e+13                                  0.496392             11            23   4209.492807\n",
      "138  139  9.368037e+06  4.217293e+05                   1.963689e+10                                  0.010589                   9.129253e+11                                  0.492276                   9.219372e+11                                  0.497135              1             1   1103.696713\n",
      "139  140  5.366498e+05  4.463517e+04                   3.845126e+08                                  0.164313                   9.401305e+08                                  0.401743                   1.015486e+09                                  0.433944              0             0      0.000000\n",
      "140  141  5.571614e+05  3.926025e+04                   5.123058e+08                                  0.265655                   6.373336e+08                                  0.330487                   7.788263e+08                                  0.403858              1             0    155.839756\n",
      "141  142  3.290455e+06  1.267816e+05                   7.506167e+09                                  0.180485                   1.640713e+10                                  0.394507                   1.767566e+10                                  0.425009              1             0    209.562561\n",
      "142  143  4.642406e+06  2.211777e+05                   8.458801e+09                                  0.035818                   1.121695e+11                                  0.474965                   1.155352e+11                                  0.489217              1             0    623.580557\n",
      "143  144  8.703159e+05  5.344561e+04                   1.007506e+09                                  0.223791                   1.494302e+09                                  0.331919                   2.000195e+09                                  0.444290              1             0    103.528732\n",
      "144  145  9.119037e+05  5.674692e+04                   7.476193e+08                                  0.122183                   2.616776e+09                                  0.427658                   2.754455e+09                                  0.450159              1             0    192.341194\n",
      "145  146  3.560677e+06  1.861402e+05                   7.029652e+09                                  0.065567                   4.860873e+10                                  0.453384                   5.157469e+10                                  0.481049              2             1    420.683326\n",
      "146  147  6.420299e+06  3.341837e+05                   1.013259e+10                                  0.011609                   4.302099e+11                                  0.492911                   4.324526e+11                                  0.495480              1             1    815.901330\n",
      "147  148  2.155989e+07  1.039540e+06                   6.290425e+10                                  0.004324                   7.238556e+12                                  0.497567                   7.246444e+12                                  0.498109              2             2   2385.494770\n",
      "148  149  3.194645e+06  1.329856e+05                   5.781851e+09                                  0.109046                   2.356945e+10                                  0.444521                   2.367088e+10                                  0.446434              1             1    333.796033\n",
      "149  150  8.277882e+06  3.903217e+05                   3.580678e+10                                  0.058552                   2.793240e+11                                  0.456756                   2.964079e+11                                  0.484692              3             2    870.416667\n",
      "150  151  5.823172e+06  2.848139e+05                   8.709258e+09                                  0.012224                   3.508687e+11                                  0.492470                   3.528897e+11                                  0.495306              1             0    874.406530\n",
      "151  152  5.182270e+06  2.462135e+05                   8.945569e+09                                  0.021223                   2.057951e+11                                  0.488241                   2.067626e+11                                  0.490536              1             0    678.808083\n",
      "152  153  9.210337e+05  5.754948e+04                   1.077736e+09                                  0.211765                   1.869855e+09                                  0.367409                   2.141709e+09                                  0.420826              1             0    178.431941\n",
      "153  154  2.287484e+06  1.025650e+05                   4.473511e+09                                  0.190241                   8.805508e+09                                  0.374463                   1.023598e+10                                  0.435296              1             0    250.721210\n",
      "154  155  1.427665e+06  8.228640e+04                   2.098856e+09                                  0.173610                   4.514428e+09                                  0.373419                   5.476173e+09                                  0.452971              1             0    272.148171\n",
      "155  156  1.537632e+06  9.600720e+04                   1.226789e+09                                  0.037689                   1.554155e+10                                  0.477457                   1.578234e+10                                  0.484854              1             0    350.317001\n",
      "156  157  2.078876e+06  1.072429e+05                   2.648868e+09                                  0.082080                   1.427490e+10                                  0.442333                   1.534806e+10                                  0.475587              1             0    301.583863\n",
      "157  158  2.167696e+06  1.048719e+05                   3.231248e+09                                  0.113615                   1.208475e+10                                  0.424916                   1.312433e+10                                  0.461469              2             1    316.867676\n",
      "158  159  4.486590e+07  1.810203e+06                   1.358600e+12                                  0.031463                   2.045519e+13                                  0.473712                   2.136688e+13                                  0.494825              3            10   3423.693141\n",
      "159  160  3.023170e+06  1.395160e+05                   5.922894e+09                                  0.097329                   2.665583e+10                                  0.438027                   2.827559e+10                                  0.464644              1             0    482.800648\n",
      "160  161  2.741811e+06  1.504716e+05                   3.306579e+09                                  0.036075                   4.354538e+10                                  0.475080                   4.480711e+10                                  0.488845              1             0    530.685653\n",
      "161  162  1.866907e+06  1.163479e+05                   1.772952e+09                                  0.041866                   2.016516e+10                                  0.476173                   2.041025e+10                                  0.481961              1             0    351.535179\n",
      "162  163  8.747001e+05  5.065759e+04                   1.087385e+09                                  0.264870                   1.286361e+09                                  0.313337                   1.731609e+09                                  0.421793              1             0    115.909393\n",
      "163  164  5.407534e+05  4.497976e+04                   4.047578e+08                                  0.153951                   1.008478e+09                                  0.383579                   1.215892e+09                                  0.462470              1             0    150.894713\n",
      "164  165  2.638045e+06  1.237189e+05                   7.345709e+09                                  0.232751                   9.938588e+09                                  0.314908                   1.427603e+10                                  0.452341              1             0    175.386534\n",
      "165  166  1.517481e+07  7.819191e+05                   1.225332e+11                                  0.014501                   4.113830e+12                                  0.486836                   4.213766e+12                                  0.498663              2             1   1650.273237\n",
      "166  167  1.192856e+06  6.365555e+04                   1.577564e+09                                  0.213010                   2.625959e+09                                  0.354569                   3.202534e+09                                  0.432421              1             0    195.034953\n",
      "167  168  2.448351e+06  1.270849e+05                   3.044027e+09                                  0.059508                   2.356090e+10                                  0.460594                   2.454832e+10                                  0.479898              1             0    372.929318\n",
      "168  169  1.236812e+07  4.530451e+05                   7.544734e+10                                  0.103088                   3.102514e+11                                  0.423913                   3.461768e+11                                  0.473000              1             1    713.980966\n",
      "169  170  1.621977e+06  9.292333e+04                   1.899903e+09                                  0.095396                   8.519624e+09                                  0.427776                   9.496540e+09                                  0.476828              1             0    276.237023\n",
      "170  171  1.773843e+06  8.306944e+04                   3.380938e+09                                  0.240994                   4.549172e+09                                  0.324266                   6.099017e+09                                  0.434740              0             0      0.000000\n",
      "171  172  3.376967e+06  1.589211e+05                   7.863903e+09                                  0.114597                   2.838839e+10                                  0.413693                   3.236965e+10                                  0.471710              1             1    316.704839\n",
      "172  173  4.765404e+06  2.156437e+05                   9.805356e+09                                  0.059945                   7.596480e+10                                  0.464407                   7.780347e+10                                  0.475648              1             2    444.999286\n",
      "173  174  1.218348e+06  6.474804e+04                   1.845775e+09                                  0.247340                   2.371176e+09                                  0.317746                   3.245538e+09                                  0.434914              1             0    204.176012\n",
      "174  175  1.469940e+06  8.548875e+04                   1.973840e+09                                  0.144195                   5.654351e+09                                  0.413067                   6.060503e+09                                  0.442738              1             0    196.204639\n",
      "175  176  9.507241e+07  4.130644e+06                   4.795093e+12                                  0.031403                   7.196993e+13                                  0.471324                   7.593238e+13                                  0.497274             13            20   5209.967047\n",
      "176  177  7.555474e+05  4.473053e+04                   8.231989e+08                                  0.264822                   1.027191e+09                                  0.330446                   1.258114e+09                                  0.404733              0             0      0.000000\n",
      "177  178  7.635815e+05  4.694649e+04                   7.704551e+08                                  0.231452                   1.228749e+09                                  0.369127                   1.329593e+09                                  0.399421              1             0    187.426688\n",
      "178  179  1.034370e+06  6.785688e+04                   1.103992e+09                                  0.110679                   4.174966e+09                                  0.418553                   4.695799e+09                                  0.470768              1             0    255.446899\n",
      "179  180  2.371208e+06  1.125757e+05                   3.735385e+09                                  0.115809                   1.387485e+10                                  0.430167                   1.464433e+10                                  0.454023              1             0    318.464213\n",
      "180  181  2.060848e+06  9.490827e+04                   3.091203e+09                                  0.145736                   8.807349e+09                                  0.415227                   9.312388e+09                                  0.439037              1             0    258.080479\n",
      "181  182  6.269203e+06  2.697367e+05                   1.297060e+10                                  0.030241                   2.056834e+11                                  0.479558                   2.102477e+11                                  0.490200              2             1    558.518367\n",
      "182  183  7.962799e+05  4.653031e+04                   9.766459e+08                                  0.295663                   1.037705e+09                                  0.314148                   1.288888e+09                                  0.390189              1             0    106.464820\n",
      "183  184  4.807887e+06  2.106030e+05                   1.013337e+10                                  0.049188                   9.655853e+10                                  0.468702                   9.932075e+10                                  0.482110              2             2    372.639832\n",
      "184  185  4.600538e+06  1.529182e+05                   1.719881e+10                                  0.269700                   2.023229e+10                                  0.317269                   2.633906e+10                                  0.413031              1             0    230.150452\n",
      "185  186  4.284046e+06  2.041205e+05                   7.411555e+09                                  0.032214                   1.107821e+11                                  0.481508                   1.118794e+11                                  0.486278              1             0    585.346860\n",
      "186  187  5.568688e+05  4.458143e+04                   4.128283e+08                                  0.150418                   1.055465e+09                                  0.384568                   1.276253e+09                                  0.465014              1             0    128.516126\n",
      "187  188  1.383194e+06  6.960735e+04                   1.858006e+09                                  0.196899                   3.615488e+09                                  0.383145                   3.962845e+09                                  0.419956              1             0    162.447672\n",
      "188  189  1.255638e+07  4.267870e+05                   5.980703e+10                                  0.070285                   3.782649e+11                                  0.444533                   4.128550e+11                                  0.485183              3             1    840.833543\n",
      "189  190  6.063271e+06  2.423806e+05                   1.279393e+10                                  0.046887                   1.274016e+11                                  0.466897                   1.326734e+11                                  0.486217              1             0    572.370401\n",
      "190  191  1.900254e+06  1.133379e+05                   2.933840e+09                                  0.080786                   1.622681e+10                                  0.446822                   1.715538e+10                                  0.472391              1             0    362.356776\n",
      "191  192  5.182679e+06  2.068881e+05                   1.089187e+10                                  0.058172                   8.695216e+10                                  0.464397                   8.939272e+10                                  0.477431              2             2    412.360035\n",
      "192  193  1.328242e+06  7.061615e+04                   1.449887e+09                                  0.137370                   4.483222e+09                                  0.424766                   4.621466e+09                                  0.437864              1             0    101.344275\n",
      "193  194  8.254688e+05  4.805249e+04                   9.920940e+08                                  0.283258                   1.223738e+09                                  0.349396                   1.286609e+09                                  0.367346              1             0    119.415788\n",
      "194  195  8.864344e+05  5.187494e+04                   9.997223e+08                                  0.228153                   1.505780e+09                                  0.343644                   1.876303e+09                                  0.428203              1             0    108.311716\n",
      "195  196  4.555284e+05  3.271322e+04                   3.833502e+08                                  0.294383                   4.484298e+08                                  0.344359                   4.704344e+08                                  0.361257              1             0    149.767458\n",
      "196  197  1.847055e+06  1.082096e+05                   1.768375e+09                                  0.043739                   1.903943e+10                                  0.470921                   1.962240e+10                                  0.485340              1             0    366.897114\n",
      "197  198  1.325045e+06  7.023768e+04                   1.693425e+09                                  0.185193                   3.532190e+09                                  0.386280                   3.918499e+09                                  0.428527              1             0    232.391192\n",
      "198  199  2.399092e+06  1.470943e+05                   2.365450e+09                                  0.025586                   4.450199e+10                                  0.481364                   4.558227e+10                                  0.493049              1             0    549.712270\n",
      "199  200  4.983191e+07  2.061909e+06                   1.543146e+12                                  0.045276                   1.574808e+13                                  0.462047                   1.679204e+13                                  0.492677              7            11   2990.114731\n",
      "200  201  8.675759e+06  4.274744e+05                   1.736782e+10                                  0.006408                   1.344587e+12                                  0.496088                   1.348424e+12                                  0.497504              1             0   1332.365715\n",
      "201  202  5.795750e+05  3.808088e+04                   5.670427e+08                                  0.277274                   6.211874e+08                                  0.303750                   8.568292e+08                                  0.418975              1             0    116.405699\n",
      "202  203  5.445869e+07  2.219957e+06                   3.086199e+12                                  0.120449                   1.020748e+13                                  0.398380                   1.232882e+13                                  0.481172             10            16   3315.884751\n",
      "203  204  1.559095e+06  8.683961e+04                   2.648154e+09                                  0.185202                   4.995252e+09                                  0.349350                   6.655305e+09                                  0.465448              1             0    206.178377\n",
      "204  205  3.789604e+06  2.227928e+05                   3.699333e+09                                  0.009783                   1.867852e+11                                  0.493968                   1.876475e+11                                  0.496249              1             0    809.424691\n",
      "205  206  3.839698e+06  1.817720e+05                   5.611954e+09                                  0.037471                   7.150934e+10                                  0.477473                   7.264490e+10                                  0.485055              1             0    521.613968\n",
      "206  207  2.611718e+06  1.244361e+05                   3.619706e+09                                  0.075614                   2.195014e+10                                  0.458530                   2.230079e+10                                  0.465855              1             0    348.264938\n",
      "207  208  4.467313e+06  1.842620e+05                   1.271356e+10                                  0.130167                   4.066219e+10                                  0.416318                   4.429524e+10                                  0.453515              2             0    351.096146\n",
      "208  209  6.310349e+05  5.014527e+04                   3.595452e+08                                  0.077792                   2.056782e+09                                  0.445008                   2.205573e+09                                  0.477200              1             0    308.876050\n",
      "209  210  2.085892e+06  1.100731e+05                   2.361233e+09                                  0.057149                   1.931694e+10                                  0.467531                   1.963871e+10                                  0.475319              1             0    331.958148\n",
      "210  211  9.986415e+06  4.390870e+05                   4.419305e+10                                  0.040038                   5.216892e+11                                  0.472645                   5.378837e+11                                  0.487317              1             1   1149.760094\n",
      "211  212  8.797938e+05  5.100311e+04                   1.031508e+09                                  0.246459                   1.388970e+09                                  0.331868                   1.764828e+09                                  0.421672              1             0    100.090223\n",
      "212  213  1.502849e+07  6.655060e+05                   1.066164e+11                                  0.043095                   1.152304e+12                                  0.465764                   1.215089e+12                                  0.491142              3             5   1337.862554\n",
      "213  214  1.648966e+07  6.470600e+05                   2.360744e+11                                  0.122196                   7.566214e+11                                  0.391640                   9.392372e+11                                  0.486164              1             3   1161.917034\n",
      "214  215  1.530453e+06  8.976510e+04                   2.300242e+09                                  0.135471                   6.760634e+09                                  0.398161                   7.918765e+09                                  0.466368              1             0    268.931046\n",
      "215  216  2.502341e+06  1.354928e+05                   2.711371e+09                                  0.037026                   3.474341e+10                                  0.474445                   3.577479e+10                                  0.488529              1             1    429.949220\n",
      "216  217  1.687118e+06  8.824252e+04                   2.368776e+09                                  0.143706                   6.615717e+09                                  0.401353                   7.499044e+09                                  0.454941              1             0    239.422060\n",
      "217  218  8.857548e+06  3.559632e+05                   2.701352e+10                                  0.035242                   3.646845e+11                                  0.475768                   3.748201e+11                                  0.488990              1             1    863.872275\n",
      "218  219  1.508587e+06  7.631974e+04                   2.302007e+09                                  0.201489                   4.064536e+09                                  0.355758                   5.058457e+09                                  0.442753              1             0    133.501878\n",
      "219  220  1.410094e+06  6.989702e+04                   2.134134e+09                                  0.234958                   3.255675e+09                                  0.358435                   3.693227e+09                                  0.406607              1             0    166.729779\n",
      "220  221  3.319312e+06  1.406029e+05                   5.997026e+09                                  0.094992                   2.785905e+10                                  0.441282                   2.927596e+10                                  0.463726              1             1    296.003090\n",
      "221  222  1.158443e+06  6.998209e+04                   1.236593e+09                                  0.130178                   3.828349e+09                                  0.403017                   4.434274e+09                                  0.466804              1             0    131.758779\n",
      "222  223  1.100678e+06  5.895090e+04                   1.510501e+09                                  0.257922                   2.104644e+09                                  0.359374                   2.241269e+09                                  0.382703              1             0    152.811122\n",
      "223  224  2.869258e+06  1.269106e+05                   6.099796e+09                                  0.148891                   1.581675e+10                                  0.386073                   1.905170e+10                                  0.465036              1             0    332.197434\n",
      "224  225  2.296505e+06  1.032234e+05                   3.615985e+09                                  0.136319                   1.117396e+10                                  0.421247                   1.173594e+10                                  0.442434              1             0    193.248524\n",
      "225  226  2.615510e+06  1.202843e+05                   4.562279e+09                                  0.117985                   1.661077e+10                                  0.429572                   1.749514e+10                                  0.452443              2             1    319.079118\n",
      "226  227  1.258385e+06  6.703677e+04                   1.446962e+09                                  0.165595                   3.542675e+09                                  0.405436                   3.748299e+09                                  0.428968              1             0    211.301814\n",
      "227  228  3.874483e+06  1.612444e+05                   9.495139e+09                                  0.119806                   3.460613e+10                                  0.436647                   3.515290e+10                                  0.443546              1             1    229.381827\n",
      "228  229  3.756401e+06  1.834848e+05                   7.483094e+09                                  0.054248                   6.304449e+10                                  0.457034                   6.741518e+10                                  0.488719              2             1    443.126712\n",
      "229  230  1.765578e+06  8.918919e+04                   2.307690e+09                                  0.128396                   7.461386e+09                                  0.415139                   8.204138e+09                                  0.456465              1             0    257.200011\n",
      "230  231  1.774138e+06  8.934206e+04                   2.469836e+09                                  0.138660                   7.429784e+09                                  0.417117                   7.912598e+09                                  0.444223              1             0    319.360764\n",
      "231  232  3.074259e+06  1.210341e+05                   7.979855e+09                                  0.220388                   1.238261e+10                                  0.341983                   1.584575e+10                                  0.437629              1             0    181.994695\n",
      "232  233  1.837776e+07  8.914182e+05                   5.332037e+11                                  0.089413                   2.502530e+12                                  0.419652                   2.927618e+12                                  0.490935              4             5   2109.812129\n",
      "233  234  4.268746e+05  3.086527e+04                   2.985812e+08                                  0.247391                   4.329638e+08                                  0.358735                   4.753742e+08                                  0.393874              0             0      0.000000\n",
      "234  235  5.985067e+06  3.062891e+05                   4.078900e+10                                  0.093510                   1.839489e+11                                  0.421710                   2.114595e+11                                  0.484779              1             1    850.884522\n",
      "235  236  4.765615e+05  4.096268e+04                   2.047368e+08                                  0.073334                   1.282623e+09                                  0.459421                   1.304464e+09                                  0.467244              1             0    202.088227\n",
      "236  237  9.435940e+06  4.700272e+05                   6.332280e+10                                  0.077741                   3.541085e+11                                  0.434739                   3.970995e+11                                  0.487519              2             1   1051.543869\n",
      "237  238  2.022907e+06  1.173850e+05                   5.495314e+09                                  0.220629                   7.623285e+09                                  0.306064                   1.178885e+10                                  0.473306              1             0    295.782025\n",
      "238  239  1.314033e+06  6.999137e+04                   1.451634e+09                                  0.144310                   4.260651e+09                                  0.423560                   4.346855e+09                                  0.432130              0             0      0.000000\n",
      "239  240  1.797873e+07  9.943617e+05                   1.407006e+11                                  0.013093                   5.262634e+12                                  0.489727                   5.342712e+12                                  0.497179              5             5   1966.976040\n",
      "240  241  1.516723e+06  8.519914e+04                   2.387027e+09                                  0.177326                   4.878079e+09                                  0.362379                   6.196144e+09                                  0.460295              1             0    248.376902\n",
      "241  242  4.532953e+06  1.805958e+05                   1.290134e+10                                  0.133234                   3.932612e+10                                  0.406125                   4.460498e+10                                  0.460641              1             2    398.317801\n",
      "242  243  1.478787e+06  8.732632e+04                   2.302681e+09                                  0.165406                   5.216531e+09                                  0.374713                   6.402173e+09                                  0.459881              1             0    287.487087\n",
      "243  244  3.258583e+06  1.798802e+05                   4.501795e+09                                  0.024843                   8.738302e+10                                  0.482225                   8.932310e+10                                  0.492932              2             1    640.844163\n",
      "244  245  5.198000e+05  3.826027e+04                   4.341762e+08                                  0.247758                   6.426571e+08                                  0.366726                   6.755859e+08                                  0.385516              0             0      0.000000\n",
      "245  246  1.783308e+06  9.885378e+04                   3.797052e+09                                  0.217398                   6.357540e+09                                  0.363997                   7.311336e+09                                  0.418606              1             1    248.527205\n",
      "246  247  2.732813e+07  1.147371e+06                   9.007382e+11                                  0.069481                   5.657859e+12                                  0.436438                   6.405115e+12                                  0.494080              2             1   2710.571729\n",
      "247  248  1.036419e+06  5.969450e+04                   1.086902e+09                                  0.170071                   2.555572e+09                                  0.399879                   2.748394e+09                                  0.430050              0             0      0.000000\n",
      "248  249  2.256901e+06  1.180600e+05                   3.669143e+09                                  0.110286                   1.398108e+10                                  0.420238                   1.561922e+10                                  0.469476              1             0    361.037167\n",
      "249  250  9.271643e+05  7.502909e+04                   1.071179e+09                                  0.112258                   3.939467e+09                                  0.412851                   4.531464e+09                                  0.474891              1             0    176.363104\n",
      "250  251  3.391085e+06  1.678162e+05                   4.887509e+09                                  0.038538                   6.025337e+10                                  0.475099                   6.168180e+10                                  0.486363              1             0    558.159582\n",
      "251  252  1.591318e+06  7.398892e+04                   2.795008e+09                                  0.263038                   3.637460e+09                                  0.342321                   4.193407e+09                                  0.394641              0             0      0.000000\n",
      "252  253  1.776749e+07  8.151342e+05                   2.031421e+11                                  0.091801                   9.639114e+11                                  0.435598                   1.045793e+12                                  0.472601              3             3   1431.422917\n",
      "253  254  1.944254e+06  9.430130e+04                   3.878211e+09                                  0.209229                   6.168816e+09                                  0.332807                   8.488712e+09                                  0.457965              0             0      0.000000\n",
      "254  255  2.246224e+06  1.198378e+05                   2.731509e+09                                  0.054910                   2.307248e+10                                  0.463812                   2.394132e+10                                  0.481278              1             0    370.670818\n",
      "255  256  1.226730e+06  7.037522e+04                   1.301620e+09                                  0.130569                   4.080588e+09                                  0.409334                   4.586629e+09                                  0.460097              1             0    131.210559\n",
      "256  257  6.334333e+05  4.476983e+04                   5.952210e+08                                  0.234633                   8.691683e+08                                  0.342622                   1.072427e+09                                  0.422745              0             0      0.000000\n",
      "257  258  4.169133e+06  2.068078e+05                   8.088805e+09                                  0.041900                   9.108796e+10                                  0.471837                   9.387296e+10                                  0.486263              2             1    585.142999\n",
      "258  259  3.986349e+06  1.543787e+05                   8.676240e+09                                  0.118723                   3.096409e+10                                  0.423703                   3.343945e+10                                  0.457575              1             0    333.305680\n",
      "259  260  6.243756e+06  2.920132e+05                   2.267575e+10                                  0.050429                   2.076740e+11                                  0.461846                   2.193110e+11                                  0.487726              2             0    854.244954\n",
      "260  261  7.069833e+05  4.436631e+04                   7.407258e+08                                  0.265331                   9.838509e+08                                  0.352419                   1.067129e+09                                  0.382250              1             0    115.952467\n",
      "261  262  7.458095e+05  4.604898e+04                   7.495084e+08                                  0.231851                   1.187190e+09                                  0.367243                   1.296015e+09                                  0.400906              1             0    164.973970\n",
      "262  263  3.319674e+07  1.442564e+06                   2.217525e+11                                  0.010049                   1.087269e+13                                  0.492731                   1.097175e+13                                  0.497220              4             4   2226.108163\n",
      "263  264  1.048958e+06  5.843077e+04                   1.329564e+09                                  0.230454                   1.978103e+09                                  0.342865                   2.461670e+09                                  0.426682              0             0      0.000000\n",
      "264  265  5.833393e+05  3.817435e+04                   5.882712e+08                                  0.293227                   6.096375e+08                                  0.303877                   8.082908e+08                                  0.402897              0             0      0.000000\n",
      "265  266  6.295640e+05  4.730007e+04                   3.854687e+08                                  0.105511                   1.597355e+09                                  0.437231                   1.670521e+09                                  0.457258              1             0    223.210449\n",
      "266  267  5.198520e+06  2.682086e+05                   3.174590e+10                                  0.165708                   6.686308e+10                                  0.349014                   9.296783e+10                                  0.485277              1             1    604.254270\n",
      "267  268  5.024571e+06  2.225771e+05                   1.256427e+10                                  0.070063                   7.988947e+10                                  0.445492                   8.687506e+10                                  0.484446              1             0    484.655829\n",
      "268  269  4.456310e+05  3.215283e+04                   3.616721e+08                                  0.287868                   4.328003e+08                                  0.344482                   4.619075e+08                                  0.367650              0             0      0.000000\n",
      "269  270  2.788936e+06  1.246340e+05                   4.542266e+09                                  0.096541                   2.102858e+10                                  0.446941                   2.147916e+10                                  0.456518              0             0      0.000000\n",
      "270  271  6.863016e+06  3.011409e+05                   3.102706e+10                                  0.060003                   2.351518e+11                                  0.454759                   2.509119e+11                                  0.485238              3             1    751.790556\n",
      "271  272  5.328965e+06  2.468419e+05                   1.450277e+10                                  0.060523                   1.113300e+11                                  0.464605                   1.137902e+11                                  0.474872              2             1    449.014663\n",
      "272  273  4.337384e+06  2.292694e+05                   1.069874e+10                                  0.035394                   1.438959e+11                                  0.476041                   1.476815e+11                                  0.488565              1             0    680.741370\n",
      "273  274  5.812686e+05  3.864695e+04                   4.624445e+08                                  0.216580                   7.882708e+08                                  0.369176                   8.845014e+08                                  0.414244              1             0    127.710481\n",
      "274  275  5.225935e+05  3.965638e+04                   3.976462e+08                                  0.195813                   7.314073e+08                                  0.360167                   9.016918e+08                                  0.444020              1             0    126.624336\n",
      "275  276  4.801508e+06  2.802460e+05                  -8.949818e+12                                  0.503459                  -8.039285e+12                                  0.452238                  -7.875708e+11                                  0.044304              1             0    923.553085\n",
      "276  277  1.204722e+07  4.619553e+05                   1.018469e+11                                  0.164160                   2.436123e+11                                  0.392662                   2.749535e+11                                  0.443178              3             2    861.539476\n",
      "277  278  7.724909e+06  3.863649e+05                   2.322010e+10                                  0.018946                   5.935607e+11                                  0.484305                   6.088120e+11                                  0.496749              1             0   1168.599475\n",
      "278  279  1.402429e+06  7.297584e+04                   2.339352e+09                                  0.240810                   3.094134e+09                                  0.318506                   4.281024e+09                                  0.440683              1             0    188.114486\n",
      "279  280  3.769770e+06  1.609370e+05                   7.234164e+09                                  0.075923                   4.340380e+10                                  0.455523                   4.464543e+10                                  0.468554              1             1    326.721108\n",
      "280  281  1.302537e+06  7.662354e+04                   1.536262e+09                                  0.138224                   4.458391e+09                                  0.401139                   5.119670e+09                                  0.460637              1             0    241.474800\n",
      "281  282  9.692663e+05  6.046238e+04                   1.260742e+09                                  0.227630                   1.819596e+09                                  0.328532                   2.458221e+09                                  0.443838              1             0    112.933636\n",
      "282  283  2.057097e+06  9.860274e+04                   3.596532e+09                                  0.164075                   8.233756e+09                                  0.375628                   1.008970e+10                                  0.460297              1             0    230.791113\n",
      "283  284  1.577345e+06  8.905126e+04                   1.928312e+09                                  0.093350                   9.177033e+09                                  0.444260                   9.551533e+09                                  0.462390              1             1    229.983785\n",
      "284  285  9.609673e+05  7.064713e+04                   5.972586e+08                                  0.045861                   6.115447e+09                                  0.469584                   6.310415e+09                                  0.484555              1             0    253.493588\n",
      "285  286  1.421796e+06  6.961192e+04                   2.532864e+09                                  0.273390                   2.798543e+09                                  0.302067                   3.933246e+09                                  0.424543              1             0    142.392478\n",
      "286  287  6.240433e+05  3.981533e+04                   6.080875e+08                                  0.275511                   7.790423e+08                                  0.352967                   8.199931e+08                                  0.371521              1             0    114.231240\n",
      "287  288  1.456415e+07  6.551290e+05                   9.639848e+10                                  0.028067                   1.650282e+12                                  0.480489                   1.687906e+12                                  0.491444              3             5   1415.804449\n",
      "288  289  4.527560e+06  1.962653e+05                   1.279991e+10                                  0.129970                   4.126065e+10                                  0.418959                   4.442323e+10                                  0.451071              1             0    369.616933\n",
      "289  290  9.719274e+06  4.105027e+05                   4.326937e+10                                  0.033153                   6.204398e+11                                  0.475377                   6.414452e+11                                  0.491471              2             1    863.849074\n",
      "290  291  4.703170e+06  1.880306e+05                   1.088174e+10                                  0.080754                   6.052834e+10                                  0.449185                   6.334153e+10                                  0.470061              1             0    413.884134\n",
      "291  292  5.589719e+06  2.547614e+05                   1.534354e+10                                  0.036265                   1.998729e+11                                  0.472406                   2.078788e+11                                  0.491329              2             1    812.945794\n",
      "292  293  2.341589e+06  1.121789e+05                   3.728634e+09                                  0.114568                   1.403680e+10                                  0.431301                   1.477984e+10                                  0.454132              1             0    286.183763\n",
      "293  294  6.368805e+06  2.853299e+05                   1.356436e+10                                  0.028734                   2.265032e+11                                  0.479811                   2.320003e+11                                  0.491455              1             0    737.896964\n",
      "294  295  4.097275e+06  2.028156e+05                   1.133988e+10                                  0.069094                   7.366380e+10                                  0.448834                   7.911877e+10                                  0.482072              1             1    567.775238\n",
      "295  296  9.566991e+05  6.271177e+04                   7.651590e+08                                  0.098674                   3.404990e+09                                  0.439103                   3.584282e+09                                  0.462224              1             0    413.183131\n",
      "296  297  1.786801e+06  1.263487e+05                   1.122389e+09                                  0.014606                   3.766229e+10                                  0.490110                   3.805994e+10                                  0.495284              1             0    553.423497\n",
      "297  298  9.287342e+05  5.293207e+04                   1.284558e+09                                  0.278114                   1.366513e+09                                  0.295857                   1.967750e+09                                  0.426029              1             0    119.170630\n",
      "298  299  8.993824e+06  3.502174e+05                   3.916670e+10                                  0.107347                   1.556184e+11                                  0.426514                   1.700756e+11                                  0.466139              2             1    448.497533\n",
      "299  300  2.581859e+06  1.388477e+05                   4.208940e+09                                  0.070890                   2.679243e+10                                  0.451256                   2.837165e+10                                  0.477854              1             1    352.219821\n",
      "300  301  1.113584e+07  4.288707e+05                   7.260912e+10                                  0.153501                   1.976776e+11                                  0.417905                   2.027335e+11                                  0.428594              5             5   1487.167131\n",
      "301  302  5.022808e+05  3.520736e+04                   4.099185e+08                                  0.256925                   5.853405e+08                                  0.366875                   6.002175e+08                                  0.376200              0             0      0.000000\n",
      "302  303  5.811200e+07  2.430520e+06                   1.111925e+12                                  0.013840                   3.944893e+13                                  0.491015                   3.978069e+13                                  0.495145             10            14   5629.299532\n",
      "303  304  1.581444e+06  9.385690e+04                   1.984896e+09                                  0.088748                   1.001972e+10                                  0.448000                   1.036080e+10                                  0.463251              1             0    301.734851\n",
      "304  305  1.608874e+06  8.649227e+04                   1.710832e+09                                  0.095746                   7.993592e+09                                  0.447358                   8.164005e+09                                  0.456896              1             0    237.328802\n",
      "305  306  7.251089e+05  4.303546e+04                   7.724616e+08                                  0.274615                   9.937280e+08                                  0.353276                   1.046704e+09                                  0.372109              0             0      0.000000\n",
      "306  307  3.991290e+06  1.741010e+05                   7.824688e+09                                  0.067754                   5.244521e+10                                  0.454120                   5.521763e+10                                  0.478126              1             0    338.423669\n",
      "307  308  8.655319e+05  5.504076e+04                   8.308642e+08                                  0.169042                   1.880931e+09                                  0.382681                   2.203350e+09                                  0.448278              0             0      0.000000\n",
      "308  309  3.762929e+06  1.993831e+05                   4.529076e+09                                  0.021013                   1.044940e+11                                  0.484805                   1.065150e+11                                  0.494182              1             0    750.862613\n",
      "309  310  9.054997e+06  4.097384e+05                   2.331029e+10                                  0.014734                   7.762348e+11                                  0.490641                   7.825395e+11                                  0.494626              1             1    917.130458\n",
      "310  311  4.841566e+06  2.342322e+05                   1.279800e+10                                  0.036403                   1.656226e+11                                  0.471099                   1.731456e+11                                  0.492498              2             1    478.397691\n",
      "311  312  1.182537e+06  8.212330e+04                   8.395764e+08                                  0.049363                   8.077147e+09                                  0.474900                   8.091395e+09                                  0.475737              1             0    216.042097\n",
      "312  313  1.061357e+06  5.966279e+04                   1.516734e+09                                  0.260142                   1.838167e+09                                  0.315273                   2.475505e+09                                  0.424585              1             0    191.084231\n",
      "313  314  6.226108e+06  3.329623e+05                   3.204002e+10                                  0.094189                   1.456629e+11                                  0.428208                   1.624657e+11                                  0.477604              1             3    770.570049\n",
      "314  315  6.605323e+05  4.759686e+04                   4.305112e+08                                  0.114208                   1.599727e+09                                  0.424383                   1.739299e+09                                  0.461409              1             0    155.359432\n",
      "315  316  2.994095e+06  1.381207e+05                   6.527955e+09                                  0.138953                   1.939579e+10                                  0.412856                   2.105585e+10                                  0.448191              1             0    477.049108\n",
      "316  317  6.437444e+05  4.263496e+04                   5.996792e+08                                  0.232426                   8.795612e+08                                  0.340904                   1.100846e+09                                  0.426670              1             0    122.790094\n",
      "317  318  1.022094e+06  7.433507e+04                   1.144186e+09                                  0.120345                   3.856086e+09                                  0.405582                   4.507263e+09                                  0.474073              1             0    281.889310\n",
      "318  319  2.067718e+06  1.237495e+05                   2.467196e+09                                  0.043052                   2.702840e+10                                  0.471635                   2.781234e+10                                  0.485314              1             1    386.584715\n",
      "319  320  8.581989e+06  3.755406e+05                   6.660444e+10                                  0.173084                   1.399249e+11                                  0.363621                   1.782808e+11                                  0.463295              2             5    807.228843\n",
      "320  321  5.122239e+06  2.363951e+05                   1.762692e+10                                  0.096454                   7.726262e+10                                  0.422780                   8.785939e+10                                  0.480766              2             2    623.834990\n",
      "321  322  5.346261e+06  3.287672e+05                   5.582831e+09                                  0.004421                   6.277793e+11                                  0.497104                   6.295103e+11                                  0.498475              1             0   1259.290577\n",
      "322  323  2.057013e+06  1.084416e+05                   3.557493e+09                                  0.135999                   1.032244e+10                                  0.394616                   1.227827e+10                                  0.469385              1             0    318.132547\n",
      "323  324  3.387673e+06  1.875043e+05                   9.416188e+09                                  0.077256                   5.324605e+10                                  0.436865                   5.922002e+10                                  0.485879              1             1    417.654761\n",
      "324  325  1.307893e+07  5.851067e+05                   4.389420e+10                                  0.008202                   2.644299e+12                                  0.494091                   2.663652e+12                                  0.497707              1             0   1657.526841\n",
      "325  326  1.428983e+06  7.610090e+04                   2.284572e+09                                  0.215972                   3.580161e+09                                  0.338451                   4.713350e+09                                  0.445577              1             0    155.437296\n",
      "326  327  9.076733e+06  4.982647e+05                   1.343578e+11                                  0.084910                   6.614293e+11                                  0.418001                   7.865770e+11                                  0.497090              3             3   1380.063300\n",
      "327  328  3.235097e+06  1.986169e+05                   3.921989e+09                                  0.024758                   7.649986e+10                                  0.482913                   7.799164e+10                                  0.492330              2             1    532.890299\n",
      "328  329  1.092427e+06  7.532602e+04                   7.206178e+08                                  0.045799                   7.434592e+09                                  0.472511                   7.579003e+09                                  0.481689              1             0    311.223289\n",
      "329  330  6.923701e+06  3.575593e+05                   9.585683e+09                                  0.005618                   8.466657e+11                                  0.496251                   8.498738e+11                                  0.498131              1             0   1089.586564\n",
      "330  331  1.511502e+06  8.400887e+04                   2.262918e+09                                  0.170773                   4.864688e+09                                  0.367118                   6.123404e+09                                  0.462108              1             0    177.931347\n",
      "331  332  6.664731e+05  4.121825e+04                   7.131047e+08                                  0.285208                   7.764538e+08                                  0.310545                   1.010738e+09                                  0.404247              0             0      0.000000\n",
      "332  333  4.796706e+05  3.640725e+04                   4.201139e+08                                  0.282927                   4.927031e+08                                  0.331813                   5.720671e+08                                  0.385260              1             0    166.088748\n",
      "333  334  6.385222e+05  5.219288e+04                   4.252811e+08                                  0.103678                   1.743461e+09                                  0.425035                   1.933185e+09                                  0.471287              1             0    224.477751\n",
      "334  335  1.629193e+06  8.652077e+04                   1.941210e+09                                  0.111596                   7.431342e+09                                  0.427211                   8.022463e+09                                  0.461193              1             0    219.645936\n",
      "335  336  4.200391e+06  1.804557e+05                   7.962206e+09                                  0.061820                   6.008844e+10                                  0.466536                   6.074642e+10                                  0.471644              1             0    470.447981\n",
      "336  337  9.851953e+06  4.410554e+05                   4.931252e+10                                  0.062402                   3.531716e+11                                  0.446920                   3.877502e+11                                  0.490678              3             2   1076.970840\n",
      "337  338  5.214121e+05  3.729214e+04                   4.412737e+08                                  0.241957                   6.093233e+08                                  0.334101                   7.731712e+08                                  0.423942              1             0    190.413755\n",
      "338  339  1.338810e+07  6.087109e+05                   2.021549e+11                                  0.099159                   8.286567e+11                                  0.406465                   1.007882e+12                                  0.494376              1             0   1625.290627\n",
      "339  340  1.008209e+06  8.539974e+04                   6.040907e+08                                  0.029574                   9.841247e+09                                  0.481789                   9.981128e+09                                  0.488637              1             0    388.186958\n",
      "340  341  1.684625e+07  7.682691e+05                   2.898208e+11                                  0.092686                   1.330123e+12                                  0.425379                   1.506971e+12                                  0.481936              4             5   1637.479922\n",
      "341  342  2.419880e+06  1.011394e+05                   5.394826e+09                                  0.236664                   7.925174e+09                                  0.347668                   9.475249e+09                                  0.415668              1             0    231.706626\n",
      "342  343  8.281256e+06  3.540609e+05                   3.469849e+10                                  0.032897                   5.006271e+11                                  0.474638                   5.194297e+11                                  0.492465              2             1    923.893761\n",
      "343  344  2.697693e+06  1.499296e+05                   2.728470e+09                                  0.024278                   5.468528e+10                                  0.486583                   5.497250e+10                                  0.489139              1             0    532.880840\n",
      "344  345  4.733471e+05  3.240109e+04                   4.261203e+08                                  0.316183                   4.533217e+08                                  0.336366                   4.682617e+08                                  0.347452              0             0      0.000000\n",
      "345  346  2.902667e+06  1.374459e+05                   6.340429e+09                                  0.126833                   2.076250e+10                                  0.415329                   2.288752e+10                                  0.457838              1             1    283.333102\n",
      "346  347  1.918727e+06  1.508737e+05                   2.014729e+09                                  0.021811                   4.458681e+10                                  0.482690                   4.576993e+10                                  0.495499              1             0    606.071766\n",
      "347  348  2.716035e+06  1.091171e+05                   6.113493e+09                                  0.214626                   1.023685e+10                                  0.359385                   1.213402e+10                                  0.425989              1             0    243.399666\n",
      "348  349  8.946052e+06  3.912557e+05                   7.680397e+10                                  0.103272                   3.064418e+11                                  0.412046                   3.604613e+11                                  0.484682              3             3    979.968889\n",
      "349  350  7.693683e+05  5.495859e+04                   5.950017e+08                                  0.113474                   2.187362e+09                                  0.417155                   2.461154e+09                                  0.469371              0             0      0.000000\n",
      "350  351  2.273522e+07  8.740241e+05                   1.610548e+11                                  0.042965                   1.775203e+12                                  0.473581                   1.812211e+12                                  0.483454              4             6   1524.168438\n",
      "351  352  5.104012e+06  2.881405e+05                   9.121747e+09                                  0.017912                   2.478225e+11                                  0.486651                   2.522963e+11                                  0.495436              1             1    726.438163\n",
      "352  353  3.320186e+06  1.689335e+05                   5.320828e+09                                  0.048083                   5.123631e+10                                  0.463012                   5.410158e+10                                  0.488905              1             0    427.272262\n",
      "353  354  3.312217e+06  1.432055e+05                   6.990830e+09                                  0.125360                   2.320584e+10                                  0.416129                   2.556929e+10                                  0.458511              1             0    287.872382\n",
      "354  355  2.527222e+06  1.022029e+05                   5.463995e+09                                  0.223849                   8.815092e+09                                  0.361137                   1.013017e+10                                  0.415014              1             0    150.721986\n",
      "355  356  3.752252e+06  1.765345e+05                   6.765577e+09                                  0.054762                   5.680854e+10                                  0.459817                   5.997175e+10                                  0.485421              1             0    538.160505\n",
      "356  357  6.104226e+05  4.695046e+04                   4.478313e+08                                  0.159109                   1.165157e+09                                  0.413965                   1.201636e+09                                  0.426926              0             0      0.000000\n",
      "357  358  2.145085e+06  1.000080e+05                   3.645601e+09                                  0.156219                   9.033253e+09                                  0.387087                   1.065762e+10                                  0.456694              1             0    197.047110\n",
      "358  359  3.860347e+06  2.240951e+05                   6.184227e+09                                  0.018934                   1.584310e+11                                  0.485074                   1.619966e+11                                  0.495991              2             1    747.502752\n",
      "359  360  6.679377e+06  3.050435e+05                   5.499567e+10                                  0.119502                   1.821576e+11                                  0.395816                   2.230545e+11                                  0.484682              2             2    667.571212\n",
      "360  361  2.137565e+06  1.234770e+05                   2.150797e+09                                  0.032485                   3.191525e+10                                  0.482034                   3.214351e+10                                  0.485481              1             0    386.535691\n",
      "361  362  4.116387e+06  2.073320e+05                   1.950162e+10                                  0.211625                   3.287400e+10                                  0.356737                   3.977629e+10                                  0.431638              1             0    519.817396\n",
      "362  363  3.374711e+06  1.601769e+05                   5.984687e+09                                  0.062848                   4.427942e+10                                  0.464997                   4.496101e+10                                  0.472155              1             0    413.907028\n",
      "363  364  3.011084e+06  1.198880e+05                   8.745942e+09                                  0.275736                   1.144460e+10                                  0.360818                   1.152798e+10                                  0.363446              1             0    319.218008\n",
      "364  365  4.781965e+06  2.588215e+05                   1.203500e+10                                  0.025238                   2.289948e+11                                  0.480204                   2.358397e+11                                  0.494558              1             2    801.840024\n",
      "365  366  1.207051e+07  5.680989e+05                   1.764094e+10                                  0.003025                   2.903276e+12                                  0.497903                   2.910086e+12                                  0.499071              2             1   1576.574354\n",
      "366  367  4.411394e+06  1.674931e+05                   1.796925e+10                                  0.258773                   2.211487e+10                                  0.318474                   2.935603e+10                                  0.422753              1             1    254.455453\n",
      "367  368  3.834751e+06  1.508548e+05                   7.552921e+09                                  0.103776                   3.200532e+10                                  0.439749                   3.322264e+10                                  0.456475              1             0    321.603382\n",
      "368  369  2.670703e+06  1.471524e+05                   5.068822e+09                                  0.084885                   2.600017e+10                                  0.435414                   2.864465e+10                                  0.479700              2             2    427.009443\n",
      "369  370  9.652327e+05  6.520938e+04                   8.706353e+08                                  0.110941                   3.400231e+09                                  0.433274                   3.576901e+09                                  0.455786              1             0    253.855492\n",
      "370  371  1.147595e+06  5.927736e+04                   1.754392e+09                                  0.282597                   1.932106e+09                                  0.311223                   2.521601e+09                                  0.406179              1             0    202.885301\n",
      "371  372  1.488372e+06  8.578052e+04                   1.522832e+09                                  0.082889                   8.335519e+09                                  0.453710                   8.513569e+09                                  0.463401              1             0    372.715472\n",
      "372  373  4.655794e+06  2.105204e+05                   1.032462e+10                                  0.055219                   8.743639e+10                                  0.467630                   8.921653e+10                                  0.477151              1             0    532.651152\n",
      "373  374  4.282727e+06  1.864484e+05                   7.463213e+09                                  0.045575                   7.718181e+10                                  0.471320                   7.911157e+10                                  0.483105              1             0    496.032137\n",
      "374  375  2.247194e+06  1.232244e+05                   4.701396e+09                                  0.156423                   1.136639e+10                                  0.378179                   1.398779e+10                                  0.465397              1             0    434.247126\n",
      "375  376  7.112417e+05  4.522879e+04                   6.971308e+08                                  0.227451                   1.044232e+09                                  0.340699                   1.323611e+09                                  0.431851              1             0    142.762734\n",
      "376  377  1.273980e+06  7.542060e+04                   1.133002e+09                                  0.084225                   6.048093e+09                                  0.449603                   6.270986e+09                                  0.466172              1             0    262.735472\n",
      "377  378  1.414957e+06  6.860919e+04                   2.341056e+09                                  0.262552                   2.918412e+09                                  0.327303                   3.657068e+09                                  0.410144              1             0    128.444472\n",
      "378  379  5.417670e+05  4.171610e+04                   4.047407e+08                                  0.177066                   8.583499e+08                                  0.375512                   1.022723e+09                                  0.447422              0             0      0.000000\n",
      "379  380  5.013614e+07  2.268538e+06                   2.005643e+12                                  0.117847                   7.013660e+12                                  0.412107                   7.999735e+12                                  0.470046             10            15   3178.030422\n",
      "380  381  8.891852e+05  5.742739e+04                   7.168219e+08                                  0.116695                   2.642790e+09                                  0.430232                   2.783090e+09                                  0.453073              0             0      0.000000\n",
      "381  382  4.791624e+05  3.429246e+04                   4.103669e+08                                  0.275938                   4.844799e+08                                  0.325773                   5.923223e+08                                  0.398288              1             0    133.863672\n",
      "382  383  8.799478e+05  6.508242e+04                   6.518185e+08                                  0.090526                   3.226862e+09                                  0.448155                   3.321648e+09                                  0.461319              1             0    233.927844\n",
      "383  384  6.778549e+06  2.466440e+05                   1.888901e+10                                  0.081230                   1.046437e+11                                  0.450009                   1.090043e+11                                  0.468761              2             1    381.606794\n",
      "384  385  1.564256e+07  6.264844e+05                   1.077206e+11                                  0.029005                   1.777024e+12                                  0.478481                   1.829142e+12                                  0.492514              1             1   1055.902693\n",
      "385  386  1.266892e+06  6.234570e+04                   1.955655e+09                                  0.273214                   2.429683e+09                                  0.339438                   2.772625e+09                                  0.387348              1             0    148.352340\n",
      "386  387  2.458306e+06  1.433569e+05                   1.050056e+10                                  0.204556                   1.628594e+10                                  0.317258                   2.454688e+10                                  0.478186              1             0    255.255697\n",
      "387  388  4.252358e+06  1.995907e+05                   7.045632e+09                                  0.033137                   1.022737e+11                                  0.481016                   1.033010e+11                                  0.485847              1             0    525.327963\n",
      "388  389  2.021212e+06  9.295705e+04                   4.140984e+09                                  0.236953                   5.896725e+09                                  0.337419                   7.438282e+09                                  0.425629              1             0    205.563277\n",
      "389  390  1.823192e+06  1.307312e+05                   1.465430e+09                                  0.019562                   3.641710e+10                                  0.486140                   3.702813e+10                                  0.494297              1             0    498.920770\n",
      "390  391  9.159699e+05  5.956060e+04                   1.186589e+09                                  0.250884                   1.627647e+09                                  0.344138                   1.915398e+09                                  0.404978              1             0    186.750240\n",
      "391  392  1.052164e+06  8.040337e+04                   5.607420e+08                                  0.026984                   1.007726e+10                                  0.484931                   1.014282e+10                                  0.488086              1             0    357.656003\n",
      "392  393  9.942329e+06  5.096887e+05                   7.621776e+10                                  0.088139                   3.788575e+11                                  0.438113                   4.096726e+11                                  0.473748              1             4   1468.476811\n",
      "393  394  2.272305e+06  9.624200e+04                   4.778746e+09                                  0.233767                   7.110436e+09                                  0.347829                   8.553148e+09                                  0.418404              1             0    175.261367\n",
      "394  395  2.533344e+06  1.033352e+05                   5.769866e+09                                  0.236042                   8.547535e+09                                  0.349675                   1.012684e+10                                  0.414283              1             0    250.364973\n",
      "395  396  4.793563e+05  3.532715e+04                   3.471744e+08                                  0.210434                   5.817530e+08                                  0.352620                   7.208718e+08                                  0.436945              0             0      0.000000\n",
      "396  397  7.359279e+06  3.304593e+05                   5.072456e+10                                  0.227323                   7.453759e+10                                  0.334041                   9.787688e+10                                  0.438636              1             3    715.354222\n",
      "397  398  3.139442e+06  1.748595e+05                   7.683706e+09                                  0.082030                   4.069185e+10                                  0.434418                   4.529420e+10                                  0.483552              1             1    468.498327\n",
      "398  399  5.030176e+06  2.561939e+05                   2.479691e+10                                  0.076865                   1.402883e+11                                  0.434865                   1.575171e+11                                  0.488270              1             1    526.081518\n",
      "399  400  1.441838e+06  8.457679e+04                   1.475072e+09                                  0.085007                   7.675267e+09                                  0.442317                   8.202081e+09                                  0.472676              1             1    227.523404\n",
      "400  401  1.119866e+07  4.742739e+05                   2.854666e+10                                  0.009611                   1.466085e+12                                  0.493602                   1.475546e+12                                  0.496787              1             0   1274.716777\n",
      "401  402  3.253829e+06  1.483296e+05                   5.798568e+09                                  0.079292                   3.254655e+10                                  0.445056                   3.478402e+10                                  0.475652              1             1    375.644275\n",
      "402  403  5.777837e+05  4.698178e+04                   5.216938e+08                                  0.201884                   9.690109e+08                                  0.374986                   1.093422e+09                                  0.423130              1             0    122.756233\n",
      "403  404  3.779051e+06  2.166243e+05                   1.782501e+10                                  0.191277                   3.107014e+10                                  0.333407                   4.429459e+10                                  0.475316              2             2    624.464678\n",
      "404  405  2.210396e+06  1.147121e+05                   2.691235e+09                                  0.067590                   1.832054e+10                                  0.460118                   1.880526e+10                                  0.472292              1             0    345.059769\n",
      "405  406  3.067710e+06  1.844776e+05                   2.393278e+09                                  0.009145                   1.294976e+11                                  0.494832                   1.298090e+11                                  0.496022              1             0    711.464315\n",
      "406  407  5.714628e+06  2.422143e+05                   2.954516e+10                                  0.181453                   5.778257e+10                                  0.354875                   7.549745e+10                                  0.463672              1             0    443.307589\n",
      "407  408  7.444755e+05  5.111627e+04                   5.891206e+08                                  0.142555                   1.712866e+09                                  0.414477                   1.830608e+09                                  0.442968              1             0    208.274854\n",
      "408  409  7.682241e+05  4.964053e+04                   5.996506e+08                                  0.138139                   1.805589e+09                                  0.415946                   1.935684e+09                                  0.445915              1             0    186.477015\n",
      "409  410  1.546450e+06  7.829469e+04                   2.146855e+09                                  0.169577                   5.056432e+09                                  0.399401                   5.456741e+09                                  0.431021              1             0    151.288502\n",
      "410  411  5.517422e+05  4.060488e+04                   4.702659e+08                                  0.223515                   7.099003e+08                                  0.337411                   9.237953e+08                                  0.439074              1             0    128.650096\n",
      "411  412  9.037264e+05  7.265839e+04                   1.030031e+09                                  0.117773                   3.478470e+09                                  0.397726                   4.237402e+09                                  0.484501              1             1    251.387355\n",
      "412  413  4.767708e+06  2.412007e+05                   6.771162e+09                                  0.015930                   2.076430e+11                                  0.488504                   2.106451e+11                                  0.495566              1             0    747.961265\n",
      "413  414  7.691900e+05  4.544933e+04                   8.859027e+08                                  0.280001                   1.013759e+09                                  0.320411                   1.264268e+09                                  0.399588              0             0      0.000000\n",
      "414  415  4.916413e+05  3.652414e+04                   3.615445e+08                                  0.213323                   6.123608e+08                                  0.361313                   7.209144e+08                                  0.425363              1             0    105.051070\n",
      "415  416  7.885678e+06  3.257845e+05                   3.217084e+10                                  0.054066                   2.736393e+11                                  0.459874                   2.892204e+11                                  0.486060              1             2    803.891689\n",
      "416  417  4.463205e+06  1.545749e+05                   1.439448e+10                                  0.214935                   2.336786e+10                                  0.348923                   2.920911e+10                                  0.436143              1             0    395.492312\n",
      "417  418  9.426884e+05  6.263730e+04                   1.307880e+09                                  0.240798                   1.848744e+09                                  0.340378                   2.274820e+09                                  0.418824              1             0    141.044764\n",
      "418  419  1.077929e+06  6.704264e+04                   9.541138e+08                                  0.100213                   4.130072e+09                                  0.433792                   4.436674e+09                                  0.465995              1             0    128.879615\n",
      "419  420  9.683947e+06  4.189829e+05                   4.652570e+10                                  0.028069                   7.929901e+11                                  0.478417                   8.180134e+11                                  0.493514              1             1    700.028542\n",
      "420  421  2.232687e+06  1.349268e+05                   2.098980e+09                                  0.027311                   3.696490e+10                                  0.480965                   3.779176e+10                                  0.491724              1             0    449.377636\n"
     ]
    }
   ],
   "source": [
    "print(df.to_string())"
   ]
  },
  {
   "cell_type": "code",
   "execution_count": 1,
   "metadata": {},
   "outputs": [
    {
     "name": "stderr",
     "output_type": "stream",
     "text": [
      "/Users/ackermand/miniconda3/envs/mesh_playground/lib/python3.7/site-packages/tqdm/auto.py:22: TqdmWarning: IProgress not found. Please update jupyter and ipywidgets. See https://ipywidgets.readthedocs.io/en/stable/user_install.html\n",
      "  from .autonotebook import tqdm as notebook_tqdm\n"
     ]
    }
   ],
   "source": [
    "from util.mesh import MeshProcessor\n",
    "mp = MeshProcessor(path = \"https://janelia-cosem-datasets.s3.amazonaws.com/jrc_hela-2/neuroglancer/mesh/mito_seg\",lod = 2, min_branch_length = 100, use_skeletons=True,close_holes=True)\n",
    "_ = mp.get_mesh(276)\n",
    "#mp.process_mesh(id=325).compute()"
   ]
  },
  {
   "cell_type": "code",
   "execution_count": 1,
   "metadata": {},
   "outputs": [
    {
     "ename": "ValueError",
     "evalue": "string is not a file: 4701.ply",
     "output_type": "error",
     "traceback": [
      "\u001b[0;31m---------------------------------------------------------------------------\u001b[0m",
      "\u001b[0;31mValueError\u001b[0m                                Traceback (most recent call last)",
      "\u001b[0;32m/var/folders/xj/4gvb93fs50b079ngd61xnff80000gp/T/ipykernel_38876/3582152092.py\u001b[0m in \u001b[0;36m<module>\u001b[0;34m\u001b[0m\n\u001b[1;32m      1\u001b[0m \u001b[0;32mimport\u001b[0m \u001b[0mtrimesh\u001b[0m\u001b[0;34m\u001b[0m\u001b[0;34m\u001b[0m\u001b[0m\n\u001b[1;32m      2\u001b[0m \u001b[0;32mimport\u001b[0m \u001b[0mnumpy\u001b[0m \u001b[0;32mas\u001b[0m \u001b[0mnp\u001b[0m\u001b[0;34m\u001b[0m\u001b[0;34m\u001b[0m\u001b[0m\n\u001b[0;32m----> 3\u001b[0;31m \u001b[0mmesh\u001b[0m \u001b[0;34m=\u001b[0m \u001b[0mtrimesh\u001b[0m\u001b[0;34m.\u001b[0m\u001b[0mload_mesh\u001b[0m\u001b[0;34m(\u001b[0m\u001b[0;34m\"4701.ply\"\u001b[0m\u001b[0;34m)\u001b[0m\u001b[0;34m\u001b[0m\u001b[0;34m\u001b[0m\u001b[0m\n\u001b[0m\u001b[1;32m      4\u001b[0m \u001b[0mprint\u001b[0m\u001b[0;34m(\u001b[0m\u001b[0mmesh\u001b[0m\u001b[0;34m.\u001b[0m\u001b[0mis_watertight\u001b[0m\u001b[0;34m)\u001b[0m\u001b[0;34m\u001b[0m\u001b[0;34m\u001b[0m\u001b[0m\n\u001b[1;32m      5\u001b[0m \u001b[0mprint\u001b[0m\u001b[0;34m(\u001b[0m\u001b[0mmesh\u001b[0m\u001b[0;34m.\u001b[0m\u001b[0mvolume\u001b[0m\u001b[0;34m,\u001b[0m \u001b[0mmesh\u001b[0m\u001b[0;34m.\u001b[0m\u001b[0marea\u001b[0m\u001b[0;34m,\u001b[0m \u001b[0mmesh\u001b[0m\u001b[0;34m.\u001b[0m\u001b[0mprincipal_inertia_components\u001b[0m\u001b[0;34m)\u001b[0m\u001b[0;34m\u001b[0m\u001b[0;34m\u001b[0m\u001b[0m\n",
      "\u001b[0;32m~/miniconda3/envs/mesh_playground/lib/python3.7/site-packages/trimesh/constants.py\u001b[0m in \u001b[0;36mtimed\u001b[0;34m(*args, **kwargs)\u001b[0m\n\u001b[1;32m    151\u001b[0m     \u001b[0;32mdef\u001b[0m \u001b[0mtimed\u001b[0m\u001b[0;34m(\u001b[0m\u001b[0;34m*\u001b[0m\u001b[0margs\u001b[0m\u001b[0;34m,\u001b[0m \u001b[0;34m**\u001b[0m\u001b[0mkwargs\u001b[0m\u001b[0;34m)\u001b[0m\u001b[0;34m:\u001b[0m\u001b[0;34m\u001b[0m\u001b[0;34m\u001b[0m\u001b[0m\n\u001b[1;32m    152\u001b[0m         \u001b[0mtic\u001b[0m \u001b[0;34m=\u001b[0m \u001b[0mnow\u001b[0m\u001b[0;34m(\u001b[0m\u001b[0;34m)\u001b[0m\u001b[0;34m\u001b[0m\u001b[0;34m\u001b[0m\u001b[0m\n\u001b[0;32m--> 153\u001b[0;31m         \u001b[0mresult\u001b[0m \u001b[0;34m=\u001b[0m \u001b[0mmethod\u001b[0m\u001b[0;34m(\u001b[0m\u001b[0;34m*\u001b[0m\u001b[0margs\u001b[0m\u001b[0;34m,\u001b[0m \u001b[0;34m**\u001b[0m\u001b[0mkwargs\u001b[0m\u001b[0;34m)\u001b[0m\u001b[0;34m\u001b[0m\u001b[0;34m\u001b[0m\u001b[0m\n\u001b[0m\u001b[1;32m    154\u001b[0m         log.debug('%s executed in %.4f seconds.',\n\u001b[1;32m    155\u001b[0m                   \u001b[0mmethod\u001b[0m\u001b[0;34m.\u001b[0m\u001b[0m__name__\u001b[0m\u001b[0;34m,\u001b[0m\u001b[0;34m\u001b[0m\u001b[0;34m\u001b[0m\u001b[0m\n",
      "\u001b[0;32m~/miniconda3/envs/mesh_playground/lib/python3.7/site-packages/trimesh/exchange/load.py\u001b[0m in \u001b[0;36mload_mesh\u001b[0;34m(file_obj, file_type, resolver, **kwargs)\u001b[0m\n\u001b[1;32m    202\u001b[0m      \u001b[0;34m)\u001b[0m \u001b[0;34m=\u001b[0m \u001b[0mparse_file_args\u001b[0m\u001b[0;34m(\u001b[0m\u001b[0mfile_obj\u001b[0m\u001b[0;34m=\u001b[0m\u001b[0mfile_obj\u001b[0m\u001b[0;34m,\u001b[0m\u001b[0;34m\u001b[0m\u001b[0;34m\u001b[0m\u001b[0m\n\u001b[1;32m    203\u001b[0m                          \u001b[0mfile_type\u001b[0m\u001b[0;34m=\u001b[0m\u001b[0mfile_type\u001b[0m\u001b[0;34m,\u001b[0m\u001b[0;34m\u001b[0m\u001b[0;34m\u001b[0m\u001b[0m\n\u001b[0;32m--> 204\u001b[0;31m                          resolver=resolver)\n\u001b[0m\u001b[1;32m    205\u001b[0m \u001b[0;34m\u001b[0m\u001b[0m\n\u001b[1;32m    206\u001b[0m     \u001b[0;32mtry\u001b[0m\u001b[0;34m:\u001b[0m\u001b[0;34m\u001b[0m\u001b[0;34m\u001b[0m\u001b[0m\n",
      "\u001b[0;32m~/miniconda3/envs/mesh_playground/lib/python3.7/site-packages/trimesh/exchange/load.py\u001b[0m in \u001b[0;36mparse_file_args\u001b[0;34m(file_obj, file_type, resolver, **kwargs)\u001b[0m\n\u001b[1;32m    621\u001b[0m                     'use load_remote to load URL: {}'.format(file_obj))\n\u001b[1;32m    622\u001b[0m             \u001b[0;32melif\u001b[0m \u001b[0mfile_type\u001b[0m \u001b[0;32mis\u001b[0m \u001b[0;32mNone\u001b[0m\u001b[0;34m:\u001b[0m\u001b[0;34m\u001b[0m\u001b[0;34m\u001b[0m\u001b[0m\n\u001b[0;32m--> 623\u001b[0;31m                 \u001b[0;32mraise\u001b[0m \u001b[0mValueError\u001b[0m\u001b[0;34m(\u001b[0m\u001b[0;34m'string is not a file: {}'\u001b[0m\u001b[0;34m.\u001b[0m\u001b[0mformat\u001b[0m\u001b[0;34m(\u001b[0m\u001b[0mfile_obj\u001b[0m\u001b[0;34m)\u001b[0m\u001b[0;34m)\u001b[0m\u001b[0;34m\u001b[0m\u001b[0;34m\u001b[0m\u001b[0m\n\u001b[0m\u001b[1;32m    624\u001b[0m \u001b[0;34m\u001b[0m\u001b[0m\n\u001b[1;32m    625\u001b[0m     \u001b[0;32mif\u001b[0m \u001b[0mfile_type\u001b[0m \u001b[0;32mis\u001b[0m \u001b[0;32mNone\u001b[0m\u001b[0;34m:\u001b[0m\u001b[0;34m\u001b[0m\u001b[0;34m\u001b[0m\u001b[0m\n",
      "\u001b[0;31mValueError\u001b[0m: string is not a file: 4701.ply"
     ]
    }
   ],
   "source": [
    "import trimesh\n",
    "import numpy as np\n",
    "mesh = trimesh.load_mesh(\"41401.ply\")\n",
    "print(mesh.is_watertight)\n",
    "print(mesh.volume, mesh.area, mesh.principal_inertia_components)\n",
    "mesh.apply_transform(mesh.principal_inertia_transform)\n",
    "scene = trimesh.Scene()\n",
    "scene.add_geometry(mesh)\n",
    "axis = trimesh.creation.axis(origin_color=[1., 0, 0])\n",
    "scene.add_geometry(axis)\n",
    "scene.show()\n"
   ]
  },
  {
   "cell_type": "code",
   "execution_count": 2,
   "metadata": {},
   "outputs": [
    {
     "data": {
      "text/plain": [
       "False"
      ]
     },
     "execution_count": 2,
     "metadata": {},
     "output_type": "execute_result"
    }
   ],
   "source": [
    "temp = df[[\"principal_inertia_component_0\",\"principal_inertia_component_1\",\"principal_inertia_component_2\"]].to_numpy()>=0\n",
    "temp.all()\n"
   ]
  },
  {
   "cell_type": "code",
   "execution_count": null,
   "metadata": {},
   "outputs": [],
   "source": [
    "from sklearn.decomposition import PCA\n",
    "row_norms = np.sum(momenta,axis=1)\n",
    "normalized_momenta = momenta/row_norms[:,np.newaxis]\n",
    "pca = PCA(n_components=3)\n",
    "pca.fit(normalized_momenta)\n",
    "transformed = pca.transform(normalized_momenta)"
   ]
  },
  {
   "cell_type": "code",
   "execution_count": null,
   "metadata": {},
   "outputs": [],
   "source": [
    "import matplotlib.pyplot as plt\n",
    "fig = plt.figure()\n",
    "ax = fig.add_subplot()#projection='3d')\n",
    "ax.scatter(normalized_momenta[:,2],normalized_momenta[:,0])\n",
    "print(normalized_momenta[280,:],normalized_momenta[44,:],normalized_momenta[200,:])"
   ]
  },
  {
   "cell_type": "code",
   "execution_count": 5,
   "metadata": {},
   "outputs": [
    {
     "name": "stdout",
     "output_type": "stream",
     "text": [
      "[1, 4, 5, 7, 10, 11, 16, 20, 21, 22, 26, 27, 28, 32, 33, 34, 35, 36, 37, 38, 40, 41, 42, 43, 44, 45, 47, 48, 49, 53, 55, 56, 58, 59, 60, 61, 64, 65, 66, 68, 69, 72, 73, 74, 76, 78, 80, 81, 82, 83, 85, 87, 88, 89, 90, 92, 93, 94, 95, 96, 97, 98, 99, 104, 107, 108, 109, 110, 112, 113, 114, 115, 116, 117, 118, 119, 120, 121, 122, 124, 128, 129, 130, 132, 133, 137, 139, 143, 145, 146, 147, 148, 149, 150, 151, 152, 156, 157, 158, 159, 160, 161, 162, 164, 166, 168, 169, 170, 172, 173, 175, 179, 180, 181, 182, 184, 186, 187, 189, 190, 191, 192, 193, 197, 199, 200, 201, 205, 206, 207, 208, 209, 210, 211, 213, 214, 215, 216, 217, 218, 221, 222, 224, 225, 226, 228, 229, 230, 231, 233, 235, 236, 237, 239, 240, 242, 244, 247, 249, 250, 251, 253, 255, 256, 258, 259, 260, 263, 266, 268, 270, 271, 272, 273, 276, 277, 278, 280, 281, 284, 285, 288, 289, 290, 291, 292, 293, 294, 295, 296, 297, 299, 300, 301, 304, 305, 307, 309, 310, 311, 312, 314, 315, 316, 318, 319, 321, 322, 323, 324, 325, 327, 328, 329, 330, 334, 335, 336, 337, 339, 340, 341, 343, 344, 346, 347, 349, 350, 351, 352, 353, 354, 356, 358, 359, 360, 361, 363, 365, 366, 368, 369, 370, 372, 373, 374, 375, 377, 381, 383, 384, 385, 388, 390, 392, 393, 398, 399, 400, 401, 402, 405, 406, 408, 409, 412, 413, 416, 419, 420, 421]\n",
      "[2, 3, 6, 8, 9, 12, 13, 14, 15, 17, 18, 19, 23, 24, 25, 29, 30, 31, 39, 46, 50, 51, 52, 54, 57, 62, 63, 67, 70, 71, 75, 77, 79, 84, 86, 91, 100, 101, 102, 103, 105, 106, 111, 123, 125, 126, 127, 131, 134, 135, 136, 140, 141, 142, 144, 153, 154, 155, 163, 165, 167, 171, 174, 177, 178, 183, 185, 188, 194, 195, 196, 198, 202, 204, 212, 219, 220, 223, 227, 232, 234, 238, 241, 243, 245, 246, 248, 252, 254, 257, 261, 262, 264, 265, 267, 269, 274, 275, 279, 282, 283, 286, 287, 298, 302, 306, 308, 313, 317, 320, 326, 331, 332, 333, 338, 342, 345, 348, 355, 357, 362, 364, 367, 371, 376, 378, 379, 382, 386, 387, 389, 391, 394, 395, 396, 397, 403, 404, 407, 410, 411, 414, 415, 417, 418]\n",
      "[138, 176, 203, 303, 380]\n"
     ]
    }
   ],
   "source": [
    "from sklearn.cluster import KMeans,SpectralClustering\n",
    "from sklearn.preprocessing import StandardScaler\n",
    "data = df[[\"longest_path\",\"num_fragments\",\"principal_inertia_component_normalized_0\",\"principal_inertia_component_normalized_1\",\"principal_inertia_component_normalized_2\"]].to_numpy()\n",
    "#data = df[[\"longest_path\",\"num_fragments\"]].to_numpy()\n",
    "\n",
    "data = StandardScaler().fit(data).transform(data)\n",
    "#clustering = KMeans(n_clusters=5, random_state=0).fit(data)\n",
    "clustering = SpectralClustering(n_clusters=3,\n",
    "             assign_labels='discretize',\n",
    "             random_state=0).fit(data)\n",
    "for label in range(3):\n",
    "    print([int(df.iloc[i][\"id\"]) for i, x in enumerate(clustering.labels_==label) if x])"
   ]
  },
  {
   "cell_type": "code",
   "execution_count": 19,
   "metadata": {},
   "outputs": [
    {
     "data": {
      "text/plain": [
       "1"
      ]
     },
     "execution_count": 19,
     "metadata": {},
     "output_type": "execute_result"
    }
   ],
   "source": [
    "int(df.iloc[0][\"id\"])"
   ]
  },
  {
   "cell_type": "code",
   "execution_count": null,
   "metadata": {},
   "outputs": [],
   "source": []
  }
 ],
 "metadata": {
  "kernelspec": {
   "display_name": "Python 3.7.13 ('mesh_playground')",
   "language": "python",
   "name": "python3"
  },
  "language_info": {
   "codemirror_mode": {
    "name": "ipython",
    "version": 3
   },
   "file_extension": ".py",
   "mimetype": "text/x-python",
   "name": "python",
   "nbconvert_exporter": "python",
   "pygments_lexer": "ipython3",
   "version": "3.7.13"
  },
  "orig_nbformat": 4,
  "vscode": {
   "interpreter": {
    "hash": "b334f9f54135244416b8e9ef88b9b76c6faaf1949490f6b6901939e3a7cc551f"
   }
  }
 },
 "nbformat": 4,
 "nbformat_minor": 2
}
